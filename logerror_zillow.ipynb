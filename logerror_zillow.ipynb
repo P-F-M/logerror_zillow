{
 "cells": [
  {
   "cell_type": "code",
   "execution_count": 1,
   "metadata": {},
   "outputs": [],
   "source": [
    "#import statements\n",
    "import warnings\n",
    "warnings.filterwarnings(\"ignore\")\n",
    "\n",
    "import pandas as pd\n",
    "import scipy.stats as stats\n",
    "import numpy as np\n",
    "import seaborn as sns\n",
    "\n",
    "import matplotlib.pyplot as plt\n",
    "import seaborn as sns\n",
    "%matplotlib inline\n",
    "from sklearn.cluster import KMeans\n",
    "from sklearn import metrics\n",
    "from sklearn.impute import SimpleImputer\n",
    "from sklearn.preprocessing import StandardScaler, QuantileTransformer, PowerTransformer,RobustScaler,MinMaxScaler\n",
    "from mpl_toolkits.mplot3d import Axes3D\n",
    "from sklearn.linear_model import LogisticRegression\n",
    "from statsmodels.formula.api import ols\n",
    "from sklearn.metrics import mean_squared_error, r2_score, explained_variance_score\n",
    "from math import sqrt\n",
    "from sklearn.ensemble import RandomForestClassifier\n",
    "from sklearn.metrics import classification_report\n",
    "from sklearn.metrics import confusion_matrix\n",
    "\n",
    "import env\n",
    "import get_function as gf"
   ]
  },
  {
   "cell_type": "markdown",
   "metadata": {},
   "source": [
    "**Aquire**"
   ]
  },
  {
   "cell_type": "code",
   "execution_count": 2,
   "metadata": {},
   "outputs": [],
   "source": [
    "# Import from zillow\n",
    "df = gf.get_zillow_data()"
   ]
  },
  {
   "cell_type": "code",
   "execution_count": 3,
   "metadata": {},
   "outputs": [
    {
     "data": {
      "text/html": [
       "<div>\n",
       "<style scoped>\n",
       "    .dataframe tbody tr th:only-of-type {\n",
       "        vertical-align: middle;\n",
       "    }\n",
       "\n",
       "    .dataframe tbody tr th {\n",
       "        vertical-align: top;\n",
       "    }\n",
       "\n",
       "    .dataframe thead th {\n",
       "        text-align: right;\n",
       "    }\n",
       "</style>\n",
       "<table border=\"1\" class=\"dataframe\">\n",
       "  <thead>\n",
       "    <tr style=\"text-align: right;\">\n",
       "      <th></th>\n",
       "      <th>parcelid</th>\n",
       "      <th>logerror</th>\n",
       "      <th>transactiondate</th>\n",
       "      <th>id</th>\n",
       "      <th>parcelid</th>\n",
       "      <th>airconditioningtypeid</th>\n",
       "      <th>architecturalstyletypeid</th>\n",
       "      <th>basementsqft</th>\n",
       "      <th>bathroomcnt</th>\n",
       "      <th>bedroomcnt</th>\n",
       "      <th>...</th>\n",
       "      <th>numberofstories</th>\n",
       "      <th>fireplaceflag</th>\n",
       "      <th>structuretaxvaluedollarcnt</th>\n",
       "      <th>taxvaluedollarcnt</th>\n",
       "      <th>assessmentyear</th>\n",
       "      <th>landtaxvaluedollarcnt</th>\n",
       "      <th>taxamount</th>\n",
       "      <th>taxdelinquencyflag</th>\n",
       "      <th>taxdelinquencyyear</th>\n",
       "      <th>censustractandblock</th>\n",
       "    </tr>\n",
       "  </thead>\n",
       "  <tbody>\n",
       "    <tr>\n",
       "      <th>0</th>\n",
       "      <td>12177905</td>\n",
       "      <td>-0.103410</td>\n",
       "      <td>2017-01-01</td>\n",
       "      <td>2288172</td>\n",
       "      <td>12177905</td>\n",
       "      <td>NaN</td>\n",
       "      <td>None</td>\n",
       "      <td>None</td>\n",
       "      <td>3.0</td>\n",
       "      <td>4.0</td>\n",
       "      <td>...</td>\n",
       "      <td>NaN</td>\n",
       "      <td>None</td>\n",
       "      <td>108918.0</td>\n",
       "      <td>145143.0</td>\n",
       "      <td>2016.0</td>\n",
       "      <td>36225.0</td>\n",
       "      <td>1777.51</td>\n",
       "      <td>None</td>\n",
       "      <td>NaN</td>\n",
       "      <td>6.037300e+13</td>\n",
       "    </tr>\n",
       "    <tr>\n",
       "      <th>1</th>\n",
       "      <td>12095076</td>\n",
       "      <td>-0.001011</td>\n",
       "      <td>2017-01-01</td>\n",
       "      <td>781532</td>\n",
       "      <td>12095076</td>\n",
       "      <td>1.0</td>\n",
       "      <td>None</td>\n",
       "      <td>None</td>\n",
       "      <td>3.0</td>\n",
       "      <td>4.0</td>\n",
       "      <td>...</td>\n",
       "      <td>NaN</td>\n",
       "      <td>None</td>\n",
       "      <td>276684.0</td>\n",
       "      <td>773303.0</td>\n",
       "      <td>2016.0</td>\n",
       "      <td>496619.0</td>\n",
       "      <td>9516.26</td>\n",
       "      <td>None</td>\n",
       "      <td>NaN</td>\n",
       "      <td>6.037461e+13</td>\n",
       "    </tr>\n",
       "    <tr>\n",
       "      <th>2</th>\n",
       "      <td>12069064</td>\n",
       "      <td>0.101723</td>\n",
       "      <td>2017-01-01</td>\n",
       "      <td>870991</td>\n",
       "      <td>12069064</td>\n",
       "      <td>NaN</td>\n",
       "      <td>None</td>\n",
       "      <td>None</td>\n",
       "      <td>1.0</td>\n",
       "      <td>2.0</td>\n",
       "      <td>...</td>\n",
       "      <td>NaN</td>\n",
       "      <td>None</td>\n",
       "      <td>18890.0</td>\n",
       "      <td>218552.0</td>\n",
       "      <td>2016.0</td>\n",
       "      <td>199662.0</td>\n",
       "      <td>2366.08</td>\n",
       "      <td>None</td>\n",
       "      <td>NaN</td>\n",
       "      <td>6.037302e+13</td>\n",
       "    </tr>\n",
       "    <tr>\n",
       "      <th>3</th>\n",
       "      <td>12790562</td>\n",
       "      <td>-0.040966</td>\n",
       "      <td>2017-01-02</td>\n",
       "      <td>1246926</td>\n",
       "      <td>12790562</td>\n",
       "      <td>NaN</td>\n",
       "      <td>None</td>\n",
       "      <td>None</td>\n",
       "      <td>3.0</td>\n",
       "      <td>4.0</td>\n",
       "      <td>...</td>\n",
       "      <td>NaN</td>\n",
       "      <td>None</td>\n",
       "      <td>177527.0</td>\n",
       "      <td>220583.0</td>\n",
       "      <td>2016.0</td>\n",
       "      <td>43056.0</td>\n",
       "      <td>3104.19</td>\n",
       "      <td>None</td>\n",
       "      <td>NaN</td>\n",
       "      <td>6.037500e+13</td>\n",
       "    </tr>\n",
       "    <tr>\n",
       "      <th>4</th>\n",
       "      <td>11104527</td>\n",
       "      <td>0.005963</td>\n",
       "      <td>2017-01-02</td>\n",
       "      <td>1639362</td>\n",
       "      <td>11104527</td>\n",
       "      <td>1.0</td>\n",
       "      <td>None</td>\n",
       "      <td>None</td>\n",
       "      <td>3.0</td>\n",
       "      <td>4.0</td>\n",
       "      <td>...</td>\n",
       "      <td>NaN</td>\n",
       "      <td>None</td>\n",
       "      <td>271715.0</td>\n",
       "      <td>430108.0</td>\n",
       "      <td>2016.0</td>\n",
       "      <td>158393.0</td>\n",
       "      <td>6103.36</td>\n",
       "      <td>None</td>\n",
       "      <td>NaN</td>\n",
       "      <td>6.037920e+13</td>\n",
       "    </tr>\n",
       "  </tbody>\n",
       "</table>\n",
       "<p>5 rows × 62 columns</p>\n",
       "</div>"
      ],
      "text/plain": [
       "   parcelid  logerror transactiondate       id  parcelid  \\\n",
       "0  12177905 -0.103410      2017-01-01  2288172  12177905   \n",
       "1  12095076 -0.001011      2017-01-01   781532  12095076   \n",
       "2  12069064  0.101723      2017-01-01   870991  12069064   \n",
       "3  12790562 -0.040966      2017-01-02  1246926  12790562   \n",
       "4  11104527  0.005963      2017-01-02  1639362  11104527   \n",
       "\n",
       "   airconditioningtypeid architecturalstyletypeid basementsqft  bathroomcnt  \\\n",
       "0                    NaN                     None         None          3.0   \n",
       "1                    1.0                     None         None          3.0   \n",
       "2                    NaN                     None         None          1.0   \n",
       "3                    NaN                     None         None          3.0   \n",
       "4                    1.0                     None         None          3.0   \n",
       "\n",
       "   bedroomcnt  ... numberofstories  fireplaceflag  structuretaxvaluedollarcnt  \\\n",
       "0         4.0  ...             NaN           None                    108918.0   \n",
       "1         4.0  ...             NaN           None                    276684.0   \n",
       "2         2.0  ...             NaN           None                     18890.0   \n",
       "3         4.0  ...             NaN           None                    177527.0   \n",
       "4         4.0  ...             NaN           None                    271715.0   \n",
       "\n",
       "  taxvaluedollarcnt assessmentyear  landtaxvaluedollarcnt  taxamount  \\\n",
       "0          145143.0         2016.0                36225.0    1777.51   \n",
       "1          773303.0         2016.0               496619.0    9516.26   \n",
       "2          218552.0         2016.0               199662.0    2366.08   \n",
       "3          220583.0         2016.0                43056.0    3104.19   \n",
       "4          430108.0         2016.0               158393.0    6103.36   \n",
       "\n",
       "  taxdelinquencyflag taxdelinquencyyear censustractandblock  \n",
       "0               None                NaN        6.037300e+13  \n",
       "1               None                NaN        6.037461e+13  \n",
       "2               None                NaN        6.037302e+13  \n",
       "3               None                NaN        6.037500e+13  \n",
       "4               None                NaN        6.037920e+13  \n",
       "\n",
       "[5 rows x 62 columns]"
      ]
     },
     "execution_count": 3,
     "metadata": {},
     "output_type": "execute_result"
    }
   ],
   "source": [
    "df.head()"
   ]
  },
  {
   "cell_type": "markdown",
   "metadata": {},
   "source": [
    "**Prepare**"
   ]
  },
  {
   "cell_type": "code",
   "execution_count": 4,
   "metadata": {},
   "outputs": [],
   "source": [
    "# dropp columns with less than 60% of data non-null and rows with more than 75% of data non-null\n",
    "df = gf.handle_missing_values(df, prop_required_column = .6, prop_required_row = .75)"
   ]
  },
  {
   "cell_type": "code",
   "execution_count": 5,
   "metadata": {},
   "outputs": [],
   "source": [
    "# removing unnessesery columns\n",
    "df = gf.remove_columns(df, ['roomcnt','assessmentyear','unitcnt','regionidzip','regionidcounty','propertylandusetypeid','propertycountylandusecode','fullbathcnt','calculatedbathnbr','rawcensustractandblock','finishedsquarefeet12','parcelid','transactiondate','id','regionidcity','buildingqualitytypeid','heatingorsystemtypeid','propertyzoningdesc','censustractandblock'])"
   ]
  },
  {
   "cell_type": "code",
   "execution_count": 6,
   "metadata": {},
   "outputs": [],
   "source": [
    "df = df.rename(columns={'lotsizesquarefeet':'lot_square_feet','calculatedfinishedsquarefeet':'home_square_feet', 'logerror': 'target','bathroomcnt': 'bathroom', 'bedroomcnt': 'bedroom','structuretaxvaluedollarcnt':'structure_value','taxvaluedollarcnt': 'total_value','landtaxvaluedollarcnt':'land_value','taxamoun':'tax_amount','taxamount':'tax_amount','yearbuilt':'year_built'})"
   ]
  },
  {
   "cell_type": "code",
   "execution_count": 7,
   "metadata": {},
   "outputs": [],
   "source": [
    "# Covert year built into age years\n",
    "\n",
    "df['age']= 2017 - df.year_built\n",
    "\n",
    "# Drop year built because we added age column\n",
    "\n",
    "df.drop(columns='year_built',inplace=True)"
   ]
  },
  {
   "cell_type": "code",
   "execution_count": 8,
   "metadata": {},
   "outputs": [],
   "source": [
    "# Split data (train & test)\n",
    "\n",
    "train, test = gf.split_my_data(df, .80, 123)"
   ]
  },
  {
   "cell_type": "code",
   "execution_count": 9,
   "metadata": {},
   "outputs": [],
   "source": [
    "# impute lot_square_feet,structure_value, and tax_amount for the mean\n",
    "\n",
    "train = gf.imputer_9000(train,['lot_square_feet','structure_value','tax_amount', 'age'],'mean')\n",
    "test = gf.imputer_9000(test,['lot_square_feet','structure_value','tax_amount', 'age'],'mean')"
   ]
  },
  {
   "cell_type": "code",
   "execution_count": 10,
   "metadata": {},
   "outputs": [],
   "source": [
    "train['home_value_square_footage'] = train.structure_value/train.home_square_feet\n",
    "train['land_value_square_footage'] = train.land_value/train.lot_square_feet\n",
    "\n",
    "test['home_value_square_footage'] = test.structure_value/test.home_square_feet\n",
    "test['land_value_square_footage'] = test.land_value/test.lot_square_feet"
   ]
  },
  {
   "cell_type": "code",
   "execution_count": 11,
   "metadata": {},
   "outputs": [
    {
     "data": {
      "text/plain": [
       "target                       0\n",
       "bathroom                     0\n",
       "bedroom                      0\n",
       "home_square_feet             0\n",
       "fips                         0\n",
       "latitude                     0\n",
       "longitude                    0\n",
       "lot_square_feet              0\n",
       "structure_value              0\n",
       "total_value                  0\n",
       "land_value                   0\n",
       "tax_amount                   0\n",
       "age                          0\n",
       "home_value_square_footage    0\n",
       "land_value_square_footage    0\n",
       "dtype: int64"
      ]
     },
     "execution_count": 11,
     "metadata": {},
     "output_type": "execute_result"
    }
   ],
   "source": [
    "train.isnull().sum()"
   ]
  },
  {
   "cell_type": "code",
   "execution_count": 12,
   "metadata": {},
   "outputs": [
    {
     "data": {
      "text/plain": [
       "target                       0\n",
       "bathroom                     0\n",
       "bedroom                      0\n",
       "home_square_feet             0\n",
       "fips                         0\n",
       "latitude                     0\n",
       "longitude                    0\n",
       "lot_square_feet              0\n",
       "structure_value              0\n",
       "total_value                  0\n",
       "land_value                   0\n",
       "tax_amount                   0\n",
       "age                          0\n",
       "home_value_square_footage    0\n",
       "land_value_square_footage    0\n",
       "dtype: int64"
      ]
     },
     "execution_count": 12,
     "metadata": {},
     "output_type": "execute_result"
    }
   ],
   "source": [
    "test.isnull().sum()"
   ]
  },
  {
   "cell_type": "code",
   "execution_count": 13,
   "metadata": {},
   "outputs": [],
   "source": [
    "# Scale age, latitude, and longitude using MinMax scaler - why (to presrve distance better, and not distort correlation)\n",
    "\n",
    "train = gf.scaler_min_max(train, ['age', 'latitude', 'longitude', 'land_value_square_footage', 'home_value_square_footage'])\n",
    "test = gf.scaler_min_max(test, ['age', 'latitude', 'longitude', 'land_value_square_footage', 'home_value_square_footage'])"
   ]
  },
  {
   "cell_type": "code",
   "execution_count": 14,
   "metadata": {},
   "outputs": [],
   "source": [
    "# Scale bathroom, bedroom, home_square_feet, lot_square_feet, structure_value, total_value, land_value, tax_amount using uniform scaler\n",
    "\n",
    "# Scale columns using Uniform scaler (to smooth out the distribution and handle outliers)\n",
    "\n",
    "train = gf.uniform_scaler(train,['bathroom', 'bedroom', 'home_square_feet', 'lot_square_feet', 'structure_value', 'total_value', 'land_value', 'tax_amount'])\n",
    "test = gf.uniform_scaler(test,['bathroom', 'bedroom', 'home_square_feet', 'lot_square_feet', 'structure_value', 'total_value', 'land_value', 'tax_amount'])"
   ]
  },
  {
   "cell_type": "code",
   "execution_count": 15,
   "metadata": {},
   "outputs": [
    {
     "data": {
      "text/html": [
       "<div>\n",
       "<style scoped>\n",
       "    .dataframe tbody tr th:only-of-type {\n",
       "        vertical-align: middle;\n",
       "    }\n",
       "\n",
       "    .dataframe tbody tr th {\n",
       "        vertical-align: top;\n",
       "    }\n",
       "\n",
       "    .dataframe thead th {\n",
       "        text-align: right;\n",
       "    }\n",
       "</style>\n",
       "<table border=\"1\" class=\"dataframe\">\n",
       "  <thead>\n",
       "    <tr style=\"text-align: right;\">\n",
       "      <th></th>\n",
       "      <th>target</th>\n",
       "      <th>fips</th>\n",
       "      <th>age</th>\n",
       "      <th>latitude</th>\n",
       "      <th>longitude</th>\n",
       "      <th>land_value_square_footage</th>\n",
       "      <th>home_value_square_footage</th>\n",
       "      <th>bathroom</th>\n",
       "      <th>bedroom</th>\n",
       "      <th>home_square_feet</th>\n",
       "      <th>lot_square_feet</th>\n",
       "      <th>structure_value</th>\n",
       "      <th>total_value</th>\n",
       "      <th>land_value</th>\n",
       "      <th>tax_amount</th>\n",
       "    </tr>\n",
       "  </thead>\n",
       "  <tbody>\n",
       "    <tr>\n",
       "      <th>27330</th>\n",
       "      <td>0.002157</td>\n",
       "      <td>6037.0</td>\n",
       "      <td>0.395522</td>\n",
       "      <td>0.557000</td>\n",
       "      <td>0.285832</td>\n",
       "      <td>0.017275</td>\n",
       "      <td>0.058223</td>\n",
       "      <td>0.474747</td>\n",
       "      <td>0.439394</td>\n",
       "      <td>0.873672</td>\n",
       "      <td>0.839560</td>\n",
       "      <td>0.795914</td>\n",
       "      <td>0.866593</td>\n",
       "      <td>0.879433</td>\n",
       "      <td>0.863241</td>\n",
       "    </tr>\n",
       "    <tr>\n",
       "      <th>12260</th>\n",
       "      <td>-0.053258</td>\n",
       "      <td>6037.0</td>\n",
       "      <td>0.462687</td>\n",
       "      <td>0.359512</td>\n",
       "      <td>0.402151</td>\n",
       "      <td>0.004009</td>\n",
       "      <td>0.014283</td>\n",
       "      <td>0.474747</td>\n",
       "      <td>0.439394</td>\n",
       "      <td>0.545455</td>\n",
       "      <td>0.119727</td>\n",
       "      <td>0.070707</td>\n",
       "      <td>0.132333</td>\n",
       "      <td>0.257921</td>\n",
       "      <td>0.116210</td>\n",
       "    </tr>\n",
       "    <tr>\n",
       "      <th>27165</th>\n",
       "      <td>-0.027946</td>\n",
       "      <td>6037.0</td>\n",
       "      <td>0.044776</td>\n",
       "      <td>0.889853</td>\n",
       "      <td>0.516559</td>\n",
       "      <td>0.000881</td>\n",
       "      <td>0.011971</td>\n",
       "      <td>0.808081</td>\n",
       "      <td>0.439394</td>\n",
       "      <td>0.749439</td>\n",
       "      <td>0.767824</td>\n",
       "      <td>0.084252</td>\n",
       "      <td>0.060612</td>\n",
       "      <td>0.092274</td>\n",
       "      <td>0.570231</td>\n",
       "    </tr>\n",
       "    <tr>\n",
       "      <th>27296</th>\n",
       "      <td>0.036370</td>\n",
       "      <td>6037.0</td>\n",
       "      <td>0.664179</td>\n",
       "      <td>0.514136</td>\n",
       "      <td>0.517688</td>\n",
       "      <td>0.055174</td>\n",
       "      <td>0.094028</td>\n",
       "      <td>0.000000</td>\n",
       "      <td>0.111111</td>\n",
       "      <td>0.014805</td>\n",
       "      <td>0.009555</td>\n",
       "      <td>0.375978</td>\n",
       "      <td>0.699622</td>\n",
       "      <td>0.776588</td>\n",
       "      <td>0.676910</td>\n",
       "    </tr>\n",
       "    <tr>\n",
       "      <th>6387</th>\n",
       "      <td>-0.000858</td>\n",
       "      <td>6037.0</td>\n",
       "      <td>0.238806</td>\n",
       "      <td>0.353049</td>\n",
       "      <td>0.413865</td>\n",
       "      <td>0.073855</td>\n",
       "      <td>0.072092</td>\n",
       "      <td>0.808081</td>\n",
       "      <td>0.439394</td>\n",
       "      <td>0.728758</td>\n",
       "      <td>0.010566</td>\n",
       "      <td>0.770683</td>\n",
       "      <td>0.848893</td>\n",
       "      <td>0.865827</td>\n",
       "      <td>0.841041</td>\n",
       "    </tr>\n",
       "  </tbody>\n",
       "</table>\n",
       "</div>"
      ],
      "text/plain": [
       "         target    fips       age  latitude  longitude  \\\n",
       "27330  0.002157  6037.0  0.395522  0.557000   0.285832   \n",
       "12260 -0.053258  6037.0  0.462687  0.359512   0.402151   \n",
       "27165 -0.027946  6037.0  0.044776  0.889853   0.516559   \n",
       "27296  0.036370  6037.0  0.664179  0.514136   0.517688   \n",
       "6387  -0.000858  6037.0  0.238806  0.353049   0.413865   \n",
       "\n",
       "       land_value_square_footage  home_value_square_footage  bathroom  \\\n",
       "27330                   0.017275                   0.058223  0.474747   \n",
       "12260                   0.004009                   0.014283  0.474747   \n",
       "27165                   0.000881                   0.011971  0.808081   \n",
       "27296                   0.055174                   0.094028  0.000000   \n",
       "6387                    0.073855                   0.072092  0.808081   \n",
       "\n",
       "        bedroom  home_square_feet  lot_square_feet  structure_value  \\\n",
       "27330  0.439394          0.873672         0.839560         0.795914   \n",
       "12260  0.439394          0.545455         0.119727         0.070707   \n",
       "27165  0.439394          0.749439         0.767824         0.084252   \n",
       "27296  0.111111          0.014805         0.009555         0.375978   \n",
       "6387   0.439394          0.728758         0.010566         0.770683   \n",
       "\n",
       "       total_value  land_value  tax_amount  \n",
       "27330     0.866593    0.879433    0.863241  \n",
       "12260     0.132333    0.257921    0.116210  \n",
       "27165     0.060612    0.092274    0.570231  \n",
       "27296     0.699622    0.776588    0.676910  \n",
       "6387      0.848893    0.865827    0.841041  "
      ]
     },
     "execution_count": 15,
     "metadata": {},
     "output_type": "execute_result"
    }
   ],
   "source": [
    "train.head()"
   ]
  },
  {
   "cell_type": "markdown",
   "metadata": {},
   "source": [
    "**Exploration**"
   ]
  },
  {
   "cell_type": "code",
   "execution_count": 16,
   "metadata": {},
   "outputs": [],
   "source": [
    "# analysis, t-test, visualization"
   ]
  },
  {
   "cell_type": "code",
   "execution_count": 17,
   "metadata": {},
   "outputs": [],
   "source": [
    "# Exploring overestimits versus underestimits"
   ]
  },
  {
   "cell_type": "code",
   "execution_count": 18,
   "metadata": {},
   "outputs": [
    {
     "data": {
      "text/plain": [
       "0.081850353460498"
      ]
     },
     "execution_count": 18,
     "metadata": {},
     "output_type": "execute_result"
    }
   ],
   "source": [
    "# mean of all overestimits\n",
    "train.target[train.target > 0].mean()"
   ]
  },
  {
   "cell_type": "code",
   "execution_count": 19,
   "metadata": {},
   "outputs": [
    {
     "data": {
      "text/plain": [
       "-0.06776640057920577"
      ]
     },
     "execution_count": 19,
     "metadata": {},
     "output_type": "execute_result"
    }
   ],
   "source": [
    "# mean of all underestimits\n",
    "train.target[train.target < 0].mean()"
   ]
  },
  {
   "cell_type": "code",
   "execution_count": 20,
   "metadata": {},
   "outputs": [
    {
     "data": {
      "text/plain": [
       "0.5522626112759644"
      ]
     },
     "execution_count": 20,
     "metadata": {},
     "output_type": "execute_result"
    }
   ],
   "source": [
    "train.target[train.target > 0].count() /(train.target[train.target > 0].count() + train.target[train.target < 0].count())"
   ]
  },
  {
   "cell_type": "markdown",
   "metadata": {},
   "source": [
    "Differinces in over and underestimation\n",
    "\n",
    "over mean = .081\n",
    "\n",
    "over %56\n",
    "\n",
    "under mean = -.068\n",
    "\n",
    "under %44"
   ]
  },
  {
   "cell_type": "code",
   "execution_count": 21,
   "metadata": {},
   "outputs": [],
   "source": [
    "# Added to look for corrilation between variables and total log error irrespective of over or under estimation\n",
    "train['absolute_target']= train.target.abs() "
   ]
  },
  {
   "cell_type": "code",
   "execution_count": 22,
   "metadata": {},
   "outputs": [
    {
     "data": {
      "text/plain": [
       "<matplotlib.axes._subplots.AxesSubplot at 0x1a25713080>"
      ]
     },
     "execution_count": 22,
     "metadata": {},
     "output_type": "execute_result"
    },
    {
     "data": {
      "image/png": "[encoded data removed]",
      "text/plain": [
       "<Figure size 864x864 with 2 Axes>"
      ]
     },
     "metadata": {
      "needs_background": "light"
     },
     "output_type": "display_data"
    }
   ],
   "source": [
    "#heatmap for correlation\n",
    "plt.figure(figsize=(12,12))\n",
    "sns.heatmap(train.corr(), cmap='RdYlBu', annot=True, center=0)"
   ]
  },
  {
   "cell_type": "code",
   "execution_count": 23,
   "metadata": {},
   "outputs": [],
   "source": [
    "# plt.figure(figsize=(22,22))\n",
    "# sns.pairplot(train)\n",
    "# plt.show()"
   ]
  },
  {
   "cell_type": "code",
   "execution_count": 24,
   "metadata": {},
   "outputs": [],
   "source": [
    "# # home_value_square_footage and land_value_square_footage showed the most potential for explaning the targe \n",
    "# plt.figure(figsize=(22,22))\n",
    "# sns.pairplot(train[['target', 'home_value_square_footage','land_value_square_footage']])\n",
    "# plt.show()"
   ]
  },
  {
   "cell_type": "code",
   "execution_count": 25,
   "metadata": {},
   "outputs": [],
   "source": [
    "# droped dot to little value\n",
    "train.drop(columns='absolute_target',inplace=True)"
   ]
  },
  {
   "cell_type": "markdown",
   "metadata": {},
   "source": [
    "home_value_square_footage and land_value_square_foortage show a correlation with logerror\n",
    "\n",
    "Going to try correlating home_value_square_footage and land_value_square_foortage"
   ]
  },
  {
   "cell_type": "code",
   "execution_count": 26,
   "metadata": {},
   "outputs": [],
   "source": [
    "# dropping fips column to avoid noise\n",
    "train = train.drop(columns=['fips','latitude','longitude'])"
   ]
  },
  {
   "cell_type": "code",
   "execution_count": 27,
   "metadata": {},
   "outputs": [],
   "source": [
    "# Perform a baseline\n",
    "train['y_base']= train.target.mean()"
   ]
  },
  {
   "cell_type": "markdown",
   "metadata": {},
   "source": [
    "**Baseline Model**"
   ]
  },
  {
   "cell_type": "code",
   "execution_count": 28,
   "metadata": {},
   "outputs": [
    {
     "name": "stdout",
     "output_type": "stream",
     "text": [
      "SSE:  773.667932212638 MSE:  0.028696881758629007 RMSE:  0.16940154001256602\n"
     ]
    }
   ],
   "source": [
    "# Baseline using target mean\n",
    "x = train[['y_base']]\n",
    "y = train[['target']]\n",
    "\n",
    "regr = ols('y ~ x', data = train).fit()\n",
    "\n",
    "train['yhat'] = regr.predict(x)\n",
    "\n",
    "SSE, MSE, RMSE = gf.regression_errors(y,train.yhat, train)\n",
    "\n",
    "train.drop(columns=['yhat','y_base'],inplace=True)"
   ]
  },
  {
   "cell_type": "code",
   "execution_count": 29,
   "metadata": {},
   "outputs": [
    {
     "name": "stdout",
     "output_type": "stream",
     "text": [
      "SSE:  770.6964631078371 MSE:  0.028586664061863394 RMSE:  0.16907591212784687\n"
     ]
    }
   ],
   "source": [
    "# baseline using all starting features\n",
    "x = train.drop(columns=['land_value_square_footage','home_value_square_footage','target'])\n",
    "y = train[['target']]\n",
    "\n",
    "regr = ols('y ~ x', data = train).fit()\n",
    "\n",
    "train['yhat'] = regr.predict(x)\n",
    "\n",
    "SSE, MSE, RMSE = gf.regression_errors(y,train.yhat, train)\n",
    "\n",
    "train.drop(columns='yhat',inplace=True)"
   ]
  },
  {
   "cell_type": "markdown",
   "metadata": {},
   "source": [
    "## Cluster"
   ]
  },
  {
   "cell_type": "code",
   "execution_count": 30,
   "metadata": {},
   "outputs": [
    {
     "name": "stdout",
     "output_type": "stream",
     "text": [
      "   k        sse\n",
      "0  1  67.033946\n",
      "1  2  39.767134\n",
      "2  3  26.500678\n",
      "3  4  20.081390\n",
      "4  5  16.139411\n",
      "5  6  13.526938\n",
      "6  7  11.470372\n",
      "7  8   9.954371\n",
      "8  9   8.668910\n"
     ]
    },
    {
     "data": {
      "image/png": "[encoded data removed]",
      "text/plain": [
       "<Figure size 432x288 with 1 Axes>"
      ]
     },
     "metadata": {
      "needs_background": "light"
     },
     "output_type": "display_data"
    }
   ],
   "source": [
    "ks = range(1,10)\n",
    "sse = []\n",
    "for k in ks:\n",
    "    kmeans = KMeans(n_clusters=k)\n",
    "    kmeans.fit(train[['home_value_square_footage','land_value_square_footage']])\n",
    "\n",
    "    # inertia: Sum of squared distances of samples to their closest cluster center.\n",
    "    sse.append(kmeans.inertia_)\n",
    "\n",
    "print(pd.DataFrame(dict(k=ks, sse=sse)))\n",
    "\n",
    "plt.plot(ks, sse, 'bx-')\n",
    "plt.xlabel('k')\n",
    "plt.ylabel('SSE')\n",
    "plt.title('The Elbow Method to find the optimal k')\n",
    "plt.show()"
   ]
  },
  {
   "cell_type": "markdown",
   "metadata": {},
   "source": [
    "**K = 5**"
   ]
  },
  {
   "cell_type": "code",
   "execution_count": 31,
   "metadata": {},
   "outputs": [],
   "source": [
    "# List of features\n",
    "cluster_columns = ['home_value_square_footage', 'land_value_square_footage']\n",
    "\n",
    "#make the clusters\n",
    "kmeans = KMeans(n_clusters=5, n_init =1, random_state=123).fit(train[cluster_columns])\n",
    "\n",
    "#add clusters back to df\n",
    "train['cluster'] = kmeans.predict(train[cluster_columns])\n",
    "\n",
    "# find ave of the cluster columns\n",
    "cluster_means = train.groupby('cluster')[cluster_columns].transform('mean')\n",
    "\n",
    "# rename columns\n",
    "cluster_means.columns = ['avg_home_value_square_footage', 'avg_land_value_square_footage']\n",
    "\n",
    "# rejoin original dataframe\n",
    "train = train.join(cluster_means)"
   ]
  },
  {
   "cell_type": "code",
   "execution_count": 32,
   "metadata": {},
   "outputs": [
    {
     "name": "stdout",
     "output_type": "stream",
     "text": [
      "SSE:  772.2939020370583 MSE:  0.028645916247665368 RMSE:  0.16925104504157534\n"
     ]
    }
   ],
   "source": [
    "# create model basesd on only cluster variables\n",
    "x = train[['avg_home_value_square_footage', 'avg_land_value_square_footage']]\n",
    "y = train[['target']]\n",
    "\n",
    "regr = ols('y ~ x', data = train).fit()\n",
    "\n",
    "train['yhat'] = regr.predict(x)\n",
    "\n",
    "SSE, MSE, RMSE = gf.regression_errors(y,train.yhat, train)\n",
    "\n",
    "train.drop(columns='yhat',inplace=True)"
   ]
  },
  {
   "cell_type": "code",
   "execution_count": 33,
   "metadata": {},
   "outputs": [
    {
     "name": "stdout",
     "output_type": "stream",
     "text": [
      "SSE:  770.67768941409 MSE:  0.028585967708237757 RMSE:  0.16907385282248039\n"
     ]
    }
   ],
   "source": [
    "# create model basesd on using all features except those columns used to create clusters\n",
    "x = train.drop(columns = ['target','cluster','land_value','structure_value','home_square_feet','lot_square_feet'])\n",
    "y = train[['target']]\n",
    "\n",
    "regr = ols('y ~ x', data = train).fit()\n",
    "\n",
    "train['yhat'] = regr.predict(x)\n",
    "\n",
    "SSE, MSE, RMSE = gf.regression_errors(y,train.yhat, train)\n",
    "\n",
    "train.drop(columns='yhat',inplace=True)"
   ]
  },
  {
   "cell_type": "code",
   "execution_count": 34,
   "metadata": {},
   "outputs": [],
   "source": [
    "#Resetting train for new test at k =  4\n",
    "train.drop(columns=['cluster','avg_home_value_square_footage','avg_land_value_square_footage'],inplace=True)"
   ]
  },
  {
   "cell_type": "markdown",
   "metadata": {},
   "source": [
    "## K = 4"
   ]
  },
  {
   "cell_type": "code",
   "execution_count": 35,
   "metadata": {},
   "outputs": [],
   "source": [
    "\n",
    "# List of features\n",
    "cluster_columns = ['home_value_square_footage', 'land_value_square_footage']\n",
    "\n",
    "#make the clusters\n",
    "kmeans = KMeans(n_clusters= 4, n_init =1, random_state=123).fit(train[cluster_columns])\n",
    "\n",
    "#add clusters back to df\n",
    "train['cluster'] = kmeans.predict(train[cluster_columns])\n",
    "\n",
    "# find ave of the cluster columns\n",
    "cluster_means = train.groupby('cluster')[cluster_columns].transform('mean')\n",
    "\n",
    "# rename columns\n",
    "cluster_means.columns = ['avg_home_value_square_footage', 'avg_land_value_square_footage']\n",
    "\n",
    "# rejoin original dataframe\n",
    "train = train.join(cluster_means)"
   ]
  },
  {
   "cell_type": "code",
   "execution_count": 36,
   "metadata": {},
   "outputs": [
    {
     "name": "stdout",
     "output_type": "stream",
     "text": [
      "SSE:  770.5534526734585 MSE:  0.028581359520528878 RMSE:  0.16906022453708286\n"
     ]
    }
   ],
   "source": [
    "# create model basesd on using all features except those columns used to create clusters\n",
    "x = train.drop(columns = ['target','cluster','land_value','structure_value','home_square_feet','lot_square_feet'])\n",
    "y = train[['target']]\n",
    "\n",
    "regr = ols('y ~ x', data = train).fit()\n",
    "\n",
    "train['yhat'] = regr.predict(x)\n",
    "\n",
    "SSE, MSE, RMSE = gf.regression_errors(y,train.yhat, train)\n",
    "\n",
    "train.drop(columns='yhat',inplace=True)"
   ]
  },
  {
   "cell_type": "code",
   "execution_count": 37,
   "metadata": {},
   "outputs": [],
   "source": [
    "#Resetting train for new test at k =  4\n",
    "train.drop(columns=['cluster','avg_home_value_square_footage','avg_land_value_square_footage'],inplace=True)"
   ]
  },
  {
   "cell_type": "markdown",
   "metadata": {},
   "source": [
    "## K = 6"
   ]
  },
  {
   "cell_type": "code",
   "execution_count": 38,
   "metadata": {},
   "outputs": [],
   "source": [
    "# List of features\n",
    "cluster_columns = ['home_value_square_footage', 'land_value_square_footage']\n",
    "\n",
    "#make the clusters\n",
    "kmeans = KMeans(n_clusters= 6, n_init =1, random_state=123).fit(train[cluster_columns])\n",
    "\n",
    "#add clusters back to df\n",
    "train['cluster'] = kmeans.predict(train[cluster_columns])\n",
    "\n",
    "# find ave of the cluster columns\n",
    "cluster_means = train.groupby('cluster')[cluster_columns].transform('mean')\n",
    "\n",
    "# rename columns\n",
    "cluster_means.columns = ['avg_home_value_square_footage', 'avg_land_value_square_footage']\n",
    "\n",
    "# rejoin original dataframe\n",
    "train = train.join(cluster_means)"
   ]
  },
  {
   "cell_type": "code",
   "execution_count": 39,
   "metadata": {},
   "outputs": [
    {
     "name": "stdout",
     "output_type": "stream",
     "text": [
      "SSE:  770.6671910800603 MSE:  0.02858557830415654 RMSE:  0.16907270123871726\n"
     ]
    }
   ],
   "source": [
    "# create model basesd on using all features except those columns used to create clusters\n",
    "x = train.drop(columns = ['target','cluster','land_value','structure_value','home_square_feet','lot_square_feet'])\n",
    "y = train[['target']]\n",
    "\n",
    "regr = ols('y ~ x', data = train).fit()\n",
    "\n",
    "train['yhat'] = regr.predict(x)\n",
    "\n",
    "SSE, MSE, RMSE = gf.regression_errors(y,train.yhat, train)\n",
    "\n",
    "train.drop(columns='yhat',inplace=True)"
   ]
  },
  {
   "cell_type": "markdown",
   "metadata": {},
   "source": [
    "## k = 4 shows marginally better results\n",
    "\n",
    "## Using OLS model swaped with swapped features on test data"
   ]
  },
  {
   "cell_type": "code",
   "execution_count": 40,
   "metadata": {},
   "outputs": [],
   "source": [
    "# transformed test dataframe to match columns in train set\n",
    "test.drop(columns= ['fips', 'latitude', 'longitude'], inplace=True)"
   ]
  },
  {
   "cell_type": "code",
   "execution_count": 41,
   "metadata": {},
   "outputs": [],
   "source": [
    "# List of features\n",
    "cluster_columns = ['home_value_square_footage', 'land_value_square_footage']\n",
    "\n",
    "#make the clusters\n",
    "kmeans = KMeans(n_clusters= 4, n_init =1, random_state=123).fit(test[cluster_columns])\n",
    "\n",
    "#add clusters back to df\n",
    "test['cluster'] = kmeans.predict(test[cluster_columns])\n",
    "\n",
    "# find ave of the cluster columns\n",
    "cluster_means = test.groupby('cluster')[cluster_columns].transform('mean')\n",
    "\n",
    "# rename columns\n",
    "cluster_means.columns = ['avg_home_value_square_footage', 'avg_land_value_square_footage']\n",
    "\n",
    "# rejoin original dataframe\n",
    "test = test.join(cluster_means)\n"
   ]
  },
  {
   "cell_type": "code",
   "execution_count": 42,
   "metadata": {},
   "outputs": [
    {
     "name": "stdout",
     "output_type": "stream",
     "text": [
      "SSE:  770.6671910800603 MSE:  0.02858557830415654 RMSE:  0.16907270123871726\n"
     ]
    }
   ],
   "source": [
    "# create model basesd on using all features except those columns used to create clusters\n",
    "x = train.drop(columns = ['target','cluster','land_value','structure_value','home_square_feet','lot_square_feet'])\n",
    "y = train[['target']]\n",
    "\n",
    "regr = ols('y ~ x', data = train).fit()\n",
    "\n",
    "train['yhat'] = regr.predict(x)\n",
    "\n",
    "SSE, MSE, RMSE = gf.regression_errors(y,train.yhat, train)\n",
    "\n",
    "train.drop(columns='yhat',inplace=True)"
   ]
  }
 ],
 "metadata": {
  "kernelspec": {
   "display_name": "Python 3",
   "language": "python",
   "name": "python3"
  },
  "language_info": {
   "codemirror_mode": {
    "name": "ipython",
    "version": 3
   },
   "file_extension": ".py",
   "mimetype": "text/x-python",
   "name": "python",
   "nbconvert_exporter": "python",
   "pygments_lexer": "ipython3",
   "version": "3.7.3"
  }
 },
 "nbformat": 4,
 "nbformat_minor": 2
}
