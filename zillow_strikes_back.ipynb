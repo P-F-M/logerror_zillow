{
 "cells": [
  {
   "cell_type": "code",
   "execution_count": 1,
   "metadata": {},
   "outputs": [],
   "source": [
    "#import statements\n",
    "import warnings\n",
    "warnings.filterwarnings(\"ignore\")\n",
    "\n",
    "import pandas as pd\n",
    "import scipy.stats as stats\n",
    "import numpy as np\n",
    "import seaborn as sns\n",
    "\n",
    "import matplotlib.pyplot as plt\n",
    "import seaborn as sns\n",
    "%matplotlib inline\n",
    "from sklearn.cluster import KMeans\n",
    "from sklearn import metrics\n",
    "from sklearn.impute import SimpleImputer\n",
    "from sklearn.preprocessing import StandardScaler, QuantileTransformer, PowerTransformer,RobustScaler,MinMaxScaler\n",
    "\n",
    "import env\n",
    "import get_function as gf"
   ]
  },
  {
   "cell_type": "markdown",
   "metadata": {},
   "source": [
    "**Aquire**"
   ]
  },
  {
   "cell_type": "code",
   "execution_count": 2,
   "metadata": {},
   "outputs": [],
   "source": [
    "# Import from zillow\n",
    "df = gf.get_zillow_data()"
   ]
  },
  {
   "cell_type": "code",
   "execution_count": 3,
   "metadata": {},
   "outputs": [
    {
     "data": {
      "text/html": [
       "<div>\n",
       "<style scoped>\n",
       "    .dataframe tbody tr th:only-of-type {\n",
       "        vertical-align: middle;\n",
       "    }\n",
       "\n",
       "    .dataframe tbody tr th {\n",
       "        vertical-align: top;\n",
       "    }\n",
       "\n",
       "    .dataframe thead th {\n",
       "        text-align: right;\n",
       "    }\n",
       "</style>\n",
       "<table border=\"1\" class=\"dataframe\">\n",
       "  <thead>\n",
       "    <tr style=\"text-align: right;\">\n",
       "      <th></th>\n",
       "      <th>parcelid</th>\n",
       "      <th>logerror</th>\n",
       "      <th>transactiondate</th>\n",
       "      <th>id</th>\n",
       "      <th>parcelid</th>\n",
       "      <th>airconditioningtypeid</th>\n",
       "      <th>architecturalstyletypeid</th>\n",
       "      <th>basementsqft</th>\n",
       "      <th>bathroomcnt</th>\n",
       "      <th>bedroomcnt</th>\n",
       "      <th>...</th>\n",
       "      <th>numberofstories</th>\n",
       "      <th>fireplaceflag</th>\n",
       "      <th>structuretaxvaluedollarcnt</th>\n",
       "      <th>taxvaluedollarcnt</th>\n",
       "      <th>assessmentyear</th>\n",
       "      <th>landtaxvaluedollarcnt</th>\n",
       "      <th>taxamount</th>\n",
       "      <th>taxdelinquencyflag</th>\n",
       "      <th>taxdelinquencyyear</th>\n",
       "      <th>censustractandblock</th>\n",
       "    </tr>\n",
       "  </thead>\n",
       "  <tbody>\n",
       "    <tr>\n",
       "      <th>0</th>\n",
       "      <td>12177905</td>\n",
       "      <td>-0.103410</td>\n",
       "      <td>2017-01-01</td>\n",
       "      <td>2288172</td>\n",
       "      <td>12177905</td>\n",
       "      <td>NaN</td>\n",
       "      <td>None</td>\n",
       "      <td>None</td>\n",
       "      <td>3.0</td>\n",
       "      <td>4.0</td>\n",
       "      <td>...</td>\n",
       "      <td>NaN</td>\n",
       "      <td>None</td>\n",
       "      <td>108918.0</td>\n",
       "      <td>145143.0</td>\n",
       "      <td>2016.0</td>\n",
       "      <td>36225.0</td>\n",
       "      <td>1777.51</td>\n",
       "      <td>None</td>\n",
       "      <td>NaN</td>\n",
       "      <td>6.037300e+13</td>\n",
       "    </tr>\n",
       "    <tr>\n",
       "      <th>1</th>\n",
       "      <td>12095076</td>\n",
       "      <td>-0.001011</td>\n",
       "      <td>2017-01-01</td>\n",
       "      <td>781532</td>\n",
       "      <td>12095076</td>\n",
       "      <td>1.0</td>\n",
       "      <td>None</td>\n",
       "      <td>None</td>\n",
       "      <td>3.0</td>\n",
       "      <td>4.0</td>\n",
       "      <td>...</td>\n",
       "      <td>NaN</td>\n",
       "      <td>None</td>\n",
       "      <td>276684.0</td>\n",
       "      <td>773303.0</td>\n",
       "      <td>2016.0</td>\n",
       "      <td>496619.0</td>\n",
       "      <td>9516.26</td>\n",
       "      <td>None</td>\n",
       "      <td>NaN</td>\n",
       "      <td>6.037461e+13</td>\n",
       "    </tr>\n",
       "    <tr>\n",
       "      <th>2</th>\n",
       "      <td>12069064</td>\n",
       "      <td>0.101723</td>\n",
       "      <td>2017-01-01</td>\n",
       "      <td>870991</td>\n",
       "      <td>12069064</td>\n",
       "      <td>NaN</td>\n",
       "      <td>None</td>\n",
       "      <td>None</td>\n",
       "      <td>1.0</td>\n",
       "      <td>2.0</td>\n",
       "      <td>...</td>\n",
       "      <td>NaN</td>\n",
       "      <td>None</td>\n",
       "      <td>18890.0</td>\n",
       "      <td>218552.0</td>\n",
       "      <td>2016.0</td>\n",
       "      <td>199662.0</td>\n",
       "      <td>2366.08</td>\n",
       "      <td>None</td>\n",
       "      <td>NaN</td>\n",
       "      <td>6.037302e+13</td>\n",
       "    </tr>\n",
       "    <tr>\n",
       "      <th>3</th>\n",
       "      <td>12790562</td>\n",
       "      <td>-0.040966</td>\n",
       "      <td>2017-01-02</td>\n",
       "      <td>1246926</td>\n",
       "      <td>12790562</td>\n",
       "      <td>NaN</td>\n",
       "      <td>None</td>\n",
       "      <td>None</td>\n",
       "      <td>3.0</td>\n",
       "      <td>4.0</td>\n",
       "      <td>...</td>\n",
       "      <td>NaN</td>\n",
       "      <td>None</td>\n",
       "      <td>177527.0</td>\n",
       "      <td>220583.0</td>\n",
       "      <td>2016.0</td>\n",
       "      <td>43056.0</td>\n",
       "      <td>3104.19</td>\n",
       "      <td>None</td>\n",
       "      <td>NaN</td>\n",
       "      <td>6.037500e+13</td>\n",
       "    </tr>\n",
       "    <tr>\n",
       "      <th>4</th>\n",
       "      <td>11104527</td>\n",
       "      <td>0.005963</td>\n",
       "      <td>2017-01-02</td>\n",
       "      <td>1639362</td>\n",
       "      <td>11104527</td>\n",
       "      <td>1.0</td>\n",
       "      <td>None</td>\n",
       "      <td>None</td>\n",
       "      <td>3.0</td>\n",
       "      <td>4.0</td>\n",
       "      <td>...</td>\n",
       "      <td>NaN</td>\n",
       "      <td>None</td>\n",
       "      <td>271715.0</td>\n",
       "      <td>430108.0</td>\n",
       "      <td>2016.0</td>\n",
       "      <td>158393.0</td>\n",
       "      <td>6103.36</td>\n",
       "      <td>None</td>\n",
       "      <td>NaN</td>\n",
       "      <td>6.037920e+13</td>\n",
       "    </tr>\n",
       "  </tbody>\n",
       "</table>\n",
       "<p>5 rows × 62 columns</p>\n",
       "</div>"
      ],
      "text/plain": [
       "   parcelid  logerror transactiondate       id  parcelid  \\\n",
       "0  12177905 -0.103410      2017-01-01  2288172  12177905   \n",
       "1  12095076 -0.001011      2017-01-01   781532  12095076   \n",
       "2  12069064  0.101723      2017-01-01   870991  12069064   \n",
       "3  12790562 -0.040966      2017-01-02  1246926  12790562   \n",
       "4  11104527  0.005963      2017-01-02  1639362  11104527   \n",
       "\n",
       "   airconditioningtypeid architecturalstyletypeid basementsqft  bathroomcnt  \\\n",
       "0                    NaN                     None         None          3.0   \n",
       "1                    1.0                     None         None          3.0   \n",
       "2                    NaN                     None         None          1.0   \n",
       "3                    NaN                     None         None          3.0   \n",
       "4                    1.0                     None         None          3.0   \n",
       "\n",
       "   bedroomcnt  ... numberofstories  fireplaceflag  structuretaxvaluedollarcnt  \\\n",
       "0         4.0  ...             NaN           None                    108918.0   \n",
       "1         4.0  ...             NaN           None                    276684.0   \n",
       "2         2.0  ...             NaN           None                     18890.0   \n",
       "3         4.0  ...             NaN           None                    177527.0   \n",
       "4         4.0  ...             NaN           None                    271715.0   \n",
       "\n",
       "  taxvaluedollarcnt assessmentyear  landtaxvaluedollarcnt  taxamount  \\\n",
       "0          145143.0         2016.0                36225.0    1777.51   \n",
       "1          773303.0         2016.0               496619.0    9516.26   \n",
       "2          218552.0         2016.0               199662.0    2366.08   \n",
       "3          220583.0         2016.0                43056.0    3104.19   \n",
       "4          430108.0         2016.0               158393.0    6103.36   \n",
       "\n",
       "  taxdelinquencyflag taxdelinquencyyear censustractandblock  \n",
       "0               None                NaN        6.037300e+13  \n",
       "1               None                NaN        6.037461e+13  \n",
       "2               None                NaN        6.037302e+13  \n",
       "3               None                NaN        6.037500e+13  \n",
       "4               None                NaN        6.037920e+13  \n",
       "\n",
       "[5 rows x 62 columns]"
      ]
     },
     "execution_count": 3,
     "metadata": {},
     "output_type": "execute_result"
    }
   ],
   "source": [
    "df.head()"
   ]
  },
  {
   "cell_type": "code",
   "execution_count": 4,
   "metadata": {},
   "outputs": [
    {
     "data": {
      "text/plain": [
       "(33701, 62)"
      ]
     },
     "execution_count": 4,
     "metadata": {},
     "output_type": "execute_result"
    }
   ],
   "source": [
    "df.shape"
   ]
  },
  {
   "cell_type": "markdown",
   "metadata": {},
   "source": [
    "**Prepare**"
   ]
  },
  {
   "cell_type": "code",
   "execution_count": 5,
   "metadata": {},
   "outputs": [],
   "source": [
    "# dropp columns with less than 60% of data non-null and rows with more than 75% of data non-null\n",
    "df = gf.handle_missing_values(df, prop_required_column = .6, prop_required_row = .75)"
   ]
  },
  {
   "cell_type": "code",
   "execution_count": 6,
   "metadata": {},
   "outputs": [
    {
     "data": {
      "text/plain": [
       "parcelid                          0\n",
       "logerror                          0\n",
       "transactiondate                   0\n",
       "id                                0\n",
       "parcelid                          0\n",
       "bathroomcnt                       0\n",
       "bedroomcnt                        0\n",
       "buildingqualitytypeid           127\n",
       "calculatedbathnbr                 0\n",
       "calculatedfinishedsquarefeet      0\n",
       "finishedsquarefeet12              0\n",
       "fips                              0\n",
       "fullbathcnt                       0\n",
       "heatingorsystemtypeid           536\n",
       "latitude                          0\n",
       "longitude                         0\n",
       "lotsizesquarefeet               304\n",
       "propertycountylandusecode         0\n",
       "propertylandusetypeid             0\n",
       "propertyzoningdesc               68\n",
       "rawcensustractandblock            0\n",
       "regionidcity                    694\n",
       "regionidcounty                    0\n",
       "regionidzip                      12\n",
       "roomcnt                           0\n",
       "unitcnt                           0\n",
       "yearbuilt                         7\n",
       "structuretaxvaluedollarcnt       60\n",
       "taxvaluedollarcnt                 0\n",
       "assessmentyear                    0\n",
       "landtaxvaluedollarcnt             0\n",
       "taxamount                         4\n",
       "censustractandblock              61\n",
       "dtype: int64"
      ]
     },
     "execution_count": 6,
     "metadata": {},
     "output_type": "execute_result"
    }
   ],
   "source": [
    "df.isnull().sum()"
   ]
  },
  {
   "cell_type": "code",
   "execution_count": 7,
   "metadata": {},
   "outputs": [
    {
     "data": {
      "text/plain": [
       "(33701, 33)"
      ]
     },
     "execution_count": 7,
     "metadata": {},
     "output_type": "execute_result"
    }
   ],
   "source": [
    "df.shape"
   ]
  },
  {
   "cell_type": "code",
   "execution_count": 8,
   "metadata": {},
   "outputs": [],
   "source": [
    "# removing unnessesery columns\n",
    "df = gf.remove_columns(df, ['roomcnt','assessmentyear','unitcnt','regionidzip','regionidcounty','propertylandusetypeid','propertycountylandusecode','fullbathcnt','calculatedbathnbr','rawcensustractandblock','finishedsquarefeet12','parcelid','transactiondate','id','regionidcity','buildingqualitytypeid','heatingorsystemtypeid','propertyzoningdesc','censustractandblock'])"
   ]
  },
  {
   "cell_type": "code",
   "execution_count": 9,
   "metadata": {},
   "outputs": [
    {
     "data": {
      "text/plain": [
       "logerror                          0\n",
       "bathroomcnt                       0\n",
       "bedroomcnt                        0\n",
       "calculatedfinishedsquarefeet      0\n",
       "fips                              0\n",
       "latitude                          0\n",
       "longitude                         0\n",
       "lotsizesquarefeet               304\n",
       "yearbuilt                         7\n",
       "structuretaxvaluedollarcnt       60\n",
       "taxvaluedollarcnt                 0\n",
       "landtaxvaluedollarcnt             0\n",
       "taxamount                         4\n",
       "dtype: int64"
      ]
     },
     "execution_count": 9,
     "metadata": {},
     "output_type": "execute_result"
    }
   ],
   "source": [
    "df.isnull().sum()"
   ]
  },
  {
   "cell_type": "code",
   "execution_count": 10,
   "metadata": {},
   "outputs": [
    {
     "data": {
      "text/plain": [
       "(33701, 13)"
      ]
     },
     "execution_count": 10,
     "metadata": {},
     "output_type": "execute_result"
    }
   ],
   "source": [
    "df.shape"
   ]
  },
  {
   "cell_type": "code",
   "execution_count": 11,
   "metadata": {},
   "outputs": [],
   "source": [
    "df = df.rename(columns={'lotsizesquarefeet':'lot_square_feet','calculatedfinishedsquarefeet':'home_square_feet', 'logerror': 'target','bathroomcnt': 'bathroom', 'bedroomcnt': 'bedroom','structuretaxvaluedollarcnt':'structure_value','taxvaluedollarcnt': 'total_value','landtaxvaluedollarcnt':'land_value','taxamoun':'tax_amount','taxamount':'tax_amount','yearbuilt':'year_built'})"
   ]
  },
  {
   "cell_type": "code",
   "execution_count": 12,
   "metadata": {},
   "outputs": [],
   "source": [
    "# Covert year built into age years\n",
    "\n",
    "df['age']= 2017 - df.year_built"
   ]
  },
  {
   "cell_type": "code",
   "execution_count": 13,
   "metadata": {},
   "outputs": [],
   "source": [
    "# Drop year built because we added age column\n",
    "\n",
    "df.drop(columns='year_built',inplace=True)"
   ]
  },
  {
   "cell_type": "code",
   "execution_count": 14,
   "metadata": {},
   "outputs": [
    {
     "data": {
      "text/plain": [
       "(array([  397,   875,   878,   940,   959,  1203,  1278,  1324,  1726,\n",
       "         1750,  1927,  2370,  4472,  4703,  5251,  5463,  5514,  5723,\n",
       "         5783,  6108,  6887,  7005,  8739,  9386, 10622, 11406, 11585,\n",
       "        12340, 12850, 13048, 13655, 13739, 14337, 14865, 15060, 18902,\n",
       "        19494, 19762, 20312, 20614, 20917, 21217, 21285, 21661, 22036,\n",
       "        22183, 22185, 23676, 25773, 26889, 27696, 28695, 31024, 31553,\n",
       "        31708, 32148, 32171, 32679, 33018, 33032]),)"
      ]
     },
     "execution_count": 14,
     "metadata": {},
     "output_type": "execute_result"
    }
   ],
   "source": [
    "# Delete rows where tax value amount does not equal land value + structure value\n",
    "\n",
    "np.where(df.total_value - (df.land_value + df.structure_value) != 0)"
   ]
  },
  {
   "cell_type": "code",
   "execution_count": 15,
   "metadata": {},
   "outputs": [
    {
     "data": {
      "text/plain": [
       "target              8.249599e-02\n",
       "bathroom            1.000000e+00\n",
       "bedroom             3.000000e+00\n",
       "home_square_feet    1.460000e+03\n",
       "fips                6.037000e+03\n",
       "latitude            3.411261e+07\n",
       "longitude          -1.180782e+08\n",
       "lot_square_feet     9.099000e+03\n",
       "structure_value              NaN\n",
       "total_value         7.898640e+05\n",
       "land_value          7.898640e+05\n",
       "tax_amount          9.132300e+03\n",
       "age                 6.200000e+01\n",
       "Name: 31024, dtype: float64"
      ]
     },
     "execution_count": 15,
     "metadata": {},
     "output_type": "execute_result"
    }
   ],
   "source": [
    "df.loc[31024]\n",
    "\n",
    "# 397, 878,   940,   959,  1203,  1278,  1324,  1726,\n",
    "# 1750,  1927,  2370,  4472,  4703,  5251,  5463,  5514,  5723,\n",
    "# 5783,  6108,  6887,  7005,  8739,  9386, 10622, 11406, 11585,\n",
    "# 12340, 12850, 13048, 13655, 13739, 14337, 14865, 15060, 18902,\n",
    "# 19494, 19762, 20312, 20614, 20917, 21217, 21285, 21661, 22036,\n",
    "# 22183, 22185, 23676, 25773, 26889, 27696, 28695, 31024, 31553,\n",
    "# 31708, 32148, 32171, 32679, 33018, 33032]"
   ]
  },
  {
   "cell_type": "code",
   "execution_count": 16,
   "metadata": {},
   "outputs": [],
   "source": [
    "df.drop([397,   875,   878,   940,   959,  1203,  1278,  1324,  1726,\n",
    "         1750,  1927,  2370,  4472,  4703,  5251,  5463,  5514,  5723,\n",
    "         5783,  6108,  6887,  7005,  8739,  9386, 10622, 11406, 11585,\n",
    "        12340, 12850, 13048, 13655, 13739, 14337, 14865, 15060, 18902,\n",
    "        19494, 19762, 20312, 20614, 20917, 21217, 21285, 21661, 22036,\n",
    "        22183, 22185, 23676, 25773, 26889, 27696, 28695, 31024, 31553,\n",
    "        31708, 32148, 32171, 32679, 33018, 33032],axis=0,inplace=True)"
   ]
  },
  {
   "cell_type": "code",
   "execution_count": 17,
   "metadata": {},
   "outputs": [
    {
     "data": {
      "text/plain": [
       "target                0\n",
       "bathroom              0\n",
       "bedroom               0\n",
       "home_square_feet      0\n",
       "fips                  0\n",
       "latitude              0\n",
       "longitude             0\n",
       "lot_square_feet     291\n",
       "structure_value       0\n",
       "total_value           0\n",
       "land_value            0\n",
       "tax_amount            3\n",
       "age                   7\n",
       "dtype: int64"
      ]
     },
     "execution_count": 17,
     "metadata": {},
     "output_type": "execute_result"
    }
   ],
   "source": [
    "df.isnull().sum()"
   ]
  },
  {
   "cell_type": "code",
   "execution_count": 18,
   "metadata": {},
   "outputs": [],
   "source": [
    "# Split data (train & test)\n",
    "\n",
    "train, test = gf.split_my_data(df, .80, 123)"
   ]
  },
  {
   "cell_type": "code",
   "execution_count": 19,
   "metadata": {},
   "outputs": [],
   "source": [
    "# impute lot_square_feet,structure_value, and tax_amount for the mean\n",
    "\n",
    "train = gf.imputer_9000(train,['lot_square_feet','tax_amount', 'age'],'mean')\n",
    "test = gf.imputer_9000(test,['lot_square_feet','tax_amount', 'age'],'mean')"
   ]
  },
  {
   "cell_type": "code",
   "execution_count": 20,
   "metadata": {},
   "outputs": [],
   "source": [
    "train['home_value_square_footage'] = train.structure_value/train.home_square_feet\n",
    "train['land_value_square_footage'] = train.land_value/train.lot_square_feet\n",
    "\n",
    "test['home_value_square_footage'] = test.structure_value/test.home_square_feet\n",
    "test['land_value_square_footage'] = test.land_value/test.lot_square_feet"
   ]
  },
  {
   "cell_type": "code",
   "execution_count": 21,
   "metadata": {},
   "outputs": [
    {
     "data": {
      "text/plain": [
       "target                       0\n",
       "bathroom                     0\n",
       "bedroom                      0\n",
       "home_square_feet             0\n",
       "fips                         0\n",
       "latitude                     0\n",
       "longitude                    0\n",
       "lot_square_feet              0\n",
       "structure_value              0\n",
       "total_value                  0\n",
       "land_value                   0\n",
       "tax_amount                   0\n",
       "age                          0\n",
       "home_value_square_footage    0\n",
       "land_value_square_footage    0\n",
       "dtype: int64"
      ]
     },
     "execution_count": 21,
     "metadata": {},
     "output_type": "execute_result"
    }
   ],
   "source": [
    "train.isnull().sum()"
   ]
  },
  {
   "cell_type": "code",
   "execution_count": 22,
   "metadata": {},
   "outputs": [
    {
     "data": {
      "text/plain": [
       "target                       0\n",
       "bathroom                     0\n",
       "bedroom                      0\n",
       "home_square_feet             0\n",
       "fips                         0\n",
       "latitude                     0\n",
       "longitude                    0\n",
       "lot_square_feet              0\n",
       "structure_value              0\n",
       "total_value                  0\n",
       "land_value                   0\n",
       "tax_amount                   0\n",
       "age                          0\n",
       "home_value_square_footage    0\n",
       "land_value_square_footage    0\n",
       "dtype: int64"
      ]
     },
     "execution_count": 22,
     "metadata": {},
     "output_type": "execute_result"
    }
   ],
   "source": [
    "test.isnull().sum()"
   ]
  },
  {
   "cell_type": "code",
   "execution_count": null,
   "metadata": {},
   "outputs": [],
   "source": []
  },
  {
   "cell_type": "code",
   "execution_count": 23,
   "metadata": {},
   "outputs": [
    {
     "data": {
      "text/html": [
       "<div>\n",
       "<style scoped>\n",
       "    .dataframe tbody tr th:only-of-type {\n",
       "        vertical-align: middle;\n",
       "    }\n",
       "\n",
       "    .dataframe tbody tr th {\n",
       "        vertical-align: top;\n",
       "    }\n",
       "\n",
       "    .dataframe thead th {\n",
       "        text-align: right;\n",
       "    }\n",
       "</style>\n",
       "<table border=\"1\" class=\"dataframe\">\n",
       "  <thead>\n",
       "    <tr style=\"text-align: right;\">\n",
       "      <th></th>\n",
       "      <th>target</th>\n",
       "      <th>bathroom</th>\n",
       "      <th>bedroom</th>\n",
       "      <th>home_square_feet</th>\n",
       "      <th>fips</th>\n",
       "      <th>latitude</th>\n",
       "      <th>longitude</th>\n",
       "      <th>lot_square_feet</th>\n",
       "      <th>structure_value</th>\n",
       "      <th>total_value</th>\n",
       "      <th>land_value</th>\n",
       "      <th>tax_amount</th>\n",
       "      <th>age</th>\n",
       "      <th>home_value_square_footage</th>\n",
       "      <th>land_value_square_footage</th>\n",
       "    </tr>\n",
       "  </thead>\n",
       "  <tbody>\n",
       "    <tr>\n",
       "      <th>33257</th>\n",
       "      <td>0.005565</td>\n",
       "      <td>3.0</td>\n",
       "      <td>4.0</td>\n",
       "      <td>1673.0</td>\n",
       "      <td>6037.0</td>\n",
       "      <td>33985663.0</td>\n",
       "      <td>-118229161.0</td>\n",
       "      <td>3000.0</td>\n",
       "      <td>126192.0</td>\n",
       "      <td>227194.0</td>\n",
       "      <td>101002.0</td>\n",
       "      <td>3505.67</td>\n",
       "      <td>18.0</td>\n",
       "      <td>75.428571</td>\n",
       "      <td>33.667333</td>\n",
       "    </tr>\n",
       "    <tr>\n",
       "      <th>8306</th>\n",
       "      <td>0.452906</td>\n",
       "      <td>1.0</td>\n",
       "      <td>3.0</td>\n",
       "      <td>950.0</td>\n",
       "      <td>6037.0</td>\n",
       "      <td>33941666.0</td>\n",
       "      <td>-118235240.0</td>\n",
       "      <td>3251.0</td>\n",
       "      <td>116496.0</td>\n",
       "      <td>191571.0</td>\n",
       "      <td>75075.0</td>\n",
       "      <td>2495.60</td>\n",
       "      <td>52.0</td>\n",
       "      <td>122.627368</td>\n",
       "      <td>23.092894</td>\n",
       "    </tr>\n",
       "    <tr>\n",
       "      <th>25859</th>\n",
       "      <td>0.020907</td>\n",
       "      <td>2.0</td>\n",
       "      <td>3.0</td>\n",
       "      <td>1256.0</td>\n",
       "      <td>6037.0</td>\n",
       "      <td>34209673.0</td>\n",
       "      <td>-118628052.0</td>\n",
       "      <td>7525.0</td>\n",
       "      <td>46269.0</td>\n",
       "      <td>84214.0</td>\n",
       "      <td>37945.0</td>\n",
       "      <td>1137.12</td>\n",
       "      <td>56.0</td>\n",
       "      <td>36.838376</td>\n",
       "      <td>5.042525</td>\n",
       "    </tr>\n",
       "    <tr>\n",
       "      <th>30676</th>\n",
       "      <td>0.012864</td>\n",
       "      <td>2.0</td>\n",
       "      <td>3.0</td>\n",
       "      <td>1984.0</td>\n",
       "      <td>6037.0</td>\n",
       "      <td>34129558.0</td>\n",
       "      <td>-117719482.0</td>\n",
       "      <td>15368.0</td>\n",
       "      <td>242729.0</td>\n",
       "      <td>683452.0</td>\n",
       "      <td>440723.0</td>\n",
       "      <td>9630.60</td>\n",
       "      <td>40.0</td>\n",
       "      <td>122.343246</td>\n",
       "      <td>28.677967</td>\n",
       "    </tr>\n",
       "    <tr>\n",
       "      <th>30916</th>\n",
       "      <td>0.007597</td>\n",
       "      <td>2.0</td>\n",
       "      <td>4.0</td>\n",
       "      <td>2016.0</td>\n",
       "      <td>6037.0</td>\n",
       "      <td>34013213.0</td>\n",
       "      <td>-117863106.0</td>\n",
       "      <td>7595.0</td>\n",
       "      <td>179535.0</td>\n",
       "      <td>223522.0</td>\n",
       "      <td>43987.0</td>\n",
       "      <td>2839.42</td>\n",
       "      <td>40.0</td>\n",
       "      <td>89.055060</td>\n",
       "      <td>5.791573</td>\n",
       "    </tr>\n",
       "  </tbody>\n",
       "</table>\n",
       "</div>"
      ],
      "text/plain": [
       "         target  bathroom  bedroom  home_square_feet    fips    latitude  \\\n",
       "33257  0.005565       3.0      4.0            1673.0  6037.0  33985663.0   \n",
       "8306   0.452906       1.0      3.0             950.0  6037.0  33941666.0   \n",
       "25859  0.020907       2.0      3.0            1256.0  6037.0  34209673.0   \n",
       "30676  0.012864       2.0      3.0            1984.0  6037.0  34129558.0   \n",
       "30916  0.007597       2.0      4.0            2016.0  6037.0  34013213.0   \n",
       "\n",
       "         longitude  lot_square_feet  structure_value  total_value  land_value  \\\n",
       "33257 -118229161.0           3000.0         126192.0     227194.0    101002.0   \n",
       "8306  -118235240.0           3251.0         116496.0     191571.0     75075.0   \n",
       "25859 -118628052.0           7525.0          46269.0      84214.0     37945.0   \n",
       "30676 -117719482.0          15368.0         242729.0     683452.0    440723.0   \n",
       "30916 -117863106.0           7595.0         179535.0     223522.0     43987.0   \n",
       "\n",
       "       tax_amount   age  home_value_square_footage  land_value_square_footage  \n",
       "33257     3505.67  18.0                  75.428571                  33.667333  \n",
       "8306      2495.60  52.0                 122.627368                  23.092894  \n",
       "25859     1137.12  56.0                  36.838376                   5.042525  \n",
       "30676     9630.60  40.0                 122.343246                  28.677967  \n",
       "30916     2839.42  40.0                  89.055060                   5.791573  "
      ]
     },
     "execution_count": 23,
     "metadata": {},
     "output_type": "execute_result"
    }
   ],
   "source": [
    "train.head()"
   ]
  },
  {
   "cell_type": "code",
   "execution_count": 24,
   "metadata": {},
   "outputs": [
    {
     "data": {
      "text/html": [
       "<div>\n",
       "<style scoped>\n",
       "    .dataframe tbody tr th:only-of-type {\n",
       "        vertical-align: middle;\n",
       "    }\n",
       "\n",
       "    .dataframe tbody tr th {\n",
       "        vertical-align: top;\n",
       "    }\n",
       "\n",
       "    .dataframe thead th {\n",
       "        text-align: right;\n",
       "    }\n",
       "</style>\n",
       "<table border=\"1\" class=\"dataframe\">\n",
       "  <thead>\n",
       "    <tr style=\"text-align: right;\">\n",
       "      <th></th>\n",
       "      <th>target</th>\n",
       "      <th>bathroom</th>\n",
       "      <th>bedroom</th>\n",
       "      <th>home_square_feet</th>\n",
       "      <th>fips</th>\n",
       "      <th>latitude</th>\n",
       "      <th>longitude</th>\n",
       "      <th>lot_square_feet</th>\n",
       "      <th>structure_value</th>\n",
       "      <th>total_value</th>\n",
       "      <th>land_value</th>\n",
       "      <th>tax_amount</th>\n",
       "      <th>age</th>\n",
       "      <th>home_value_square_footage</th>\n",
       "      <th>land_value_square_footage</th>\n",
       "    </tr>\n",
       "  </thead>\n",
       "  <tbody>\n",
       "    <tr>\n",
       "      <th>33106</th>\n",
       "      <td>-0.027917</td>\n",
       "      <td>3.0</td>\n",
       "      <td>5.0</td>\n",
       "      <td>3083.0</td>\n",
       "      <td>6037.0</td>\n",
       "      <td>34671833.0</td>\n",
       "      <td>-118084245.0</td>\n",
       "      <td>11565.0</td>\n",
       "      <td>250104.0</td>\n",
       "      <td>309853.0</td>\n",
       "      <td>59749.0</td>\n",
       "      <td>4751.76</td>\n",
       "      <td>4.0</td>\n",
       "      <td>81.123581</td>\n",
       "      <td>5.166364</td>\n",
       "    </tr>\n",
       "    <tr>\n",
       "      <th>535</th>\n",
       "      <td>0.008490</td>\n",
       "      <td>1.0</td>\n",
       "      <td>3.0</td>\n",
       "      <td>1115.0</td>\n",
       "      <td>6037.0</td>\n",
       "      <td>33978427.0</td>\n",
       "      <td>-118063427.0</td>\n",
       "      <td>5697.0</td>\n",
       "      <td>96432.0</td>\n",
       "      <td>292670.0</td>\n",
       "      <td>196238.0</td>\n",
       "      <td>3732.85</td>\n",
       "      <td>67.0</td>\n",
       "      <td>86.486099</td>\n",
       "      <td>34.445849</td>\n",
       "    </tr>\n",
       "    <tr>\n",
       "      <th>6513</th>\n",
       "      <td>-0.034321</td>\n",
       "      <td>3.0</td>\n",
       "      <td>6.0</td>\n",
       "      <td>2176.0</td>\n",
       "      <td>6037.0</td>\n",
       "      <td>34032118.0</td>\n",
       "      <td>-118303539.0</td>\n",
       "      <td>7184.0</td>\n",
       "      <td>159154.0</td>\n",
       "      <td>424413.0</td>\n",
       "      <td>265259.0</td>\n",
       "      <td>5212.80</td>\n",
       "      <td>95.0</td>\n",
       "      <td>73.140625</td>\n",
       "      <td>36.923580</td>\n",
       "    </tr>\n",
       "    <tr>\n",
       "      <th>25153</th>\n",
       "      <td>-0.114455</td>\n",
       "      <td>2.0</td>\n",
       "      <td>2.0</td>\n",
       "      <td>1385.0</td>\n",
       "      <td>6037.0</td>\n",
       "      <td>34010163.0</td>\n",
       "      <td>-118309306.0</td>\n",
       "      <td>5876.0</td>\n",
       "      <td>29632.0</td>\n",
       "      <td>71701.0</td>\n",
       "      <td>42069.0</td>\n",
       "      <td>960.64</td>\n",
       "      <td>105.0</td>\n",
       "      <td>21.394946</td>\n",
       "      <td>7.159462</td>\n",
       "    </tr>\n",
       "    <tr>\n",
       "      <th>14729</th>\n",
       "      <td>0.070176</td>\n",
       "      <td>2.0</td>\n",
       "      <td>2.0</td>\n",
       "      <td>2209.0</td>\n",
       "      <td>6037.0</td>\n",
       "      <td>34043071.0</td>\n",
       "      <td>-118493656.0</td>\n",
       "      <td>9041.0</td>\n",
       "      <td>72049.0</td>\n",
       "      <td>228604.0</td>\n",
       "      <td>156555.0</td>\n",
       "      <td>3190.31</td>\n",
       "      <td>91.0</td>\n",
       "      <td>32.616116</td>\n",
       "      <td>17.316115</td>\n",
       "    </tr>\n",
       "  </tbody>\n",
       "</table>\n",
       "</div>"
      ],
      "text/plain": [
       "         target  bathroom  bedroom  home_square_feet    fips    latitude  \\\n",
       "33106 -0.027917       3.0      5.0            3083.0  6037.0  34671833.0   \n",
       "535    0.008490       1.0      3.0            1115.0  6037.0  33978427.0   \n",
       "6513  -0.034321       3.0      6.0            2176.0  6037.0  34032118.0   \n",
       "25153 -0.114455       2.0      2.0            1385.0  6037.0  34010163.0   \n",
       "14729  0.070176       2.0      2.0            2209.0  6037.0  34043071.0   \n",
       "\n",
       "         longitude  lot_square_feet  structure_value  total_value  land_value  \\\n",
       "33106 -118084245.0          11565.0         250104.0     309853.0     59749.0   \n",
       "535   -118063427.0           5697.0          96432.0     292670.0    196238.0   \n",
       "6513  -118303539.0           7184.0         159154.0     424413.0    265259.0   \n",
       "25153 -118309306.0           5876.0          29632.0      71701.0     42069.0   \n",
       "14729 -118493656.0           9041.0          72049.0     228604.0    156555.0   \n",
       "\n",
       "       tax_amount    age  home_value_square_footage  land_value_square_footage  \n",
       "33106     4751.76    4.0                  81.123581                   5.166364  \n",
       "535       3732.85   67.0                  86.486099                  34.445849  \n",
       "6513      5212.80   95.0                  73.140625                  36.923580  \n",
       "25153      960.64  105.0                  21.394946                   7.159462  \n",
       "14729     3190.31   91.0                  32.616116                  17.316115  "
      ]
     },
     "execution_count": 24,
     "metadata": {},
     "output_type": "execute_result"
    }
   ],
   "source": [
    "test.head()"
   ]
  },
  {
   "cell_type": "code",
   "execution_count": 25,
   "metadata": {},
   "outputs": [],
   "source": [
    "# Scaling dataframe in two ways"
   ]
  },
  {
   "cell_type": "code",
   "execution_count": 26,
   "metadata": {},
   "outputs": [],
   "source": [
    "# Scale age, latitude, and longitude using MinMax scaler - why (to presrve distance better)\n",
    "\n",
    "train = gf.scaler_min_max(train, ['age', 'latitude', 'longitude'])\n",
    "test = gf.scaler_min_max(test, ['age', 'latitude', 'longitude'])"
   ]
  },
  {
   "cell_type": "code",
   "execution_count": 27,
   "metadata": {},
   "outputs": [],
   "source": [
    "# Scale bathroom, bedroom, home_square_feet, lot_square_feet, structure_value, total_value, land_value, tax_amount using uniform scaler\n",
    "\n",
    "# Scale columns using Uniform scaler (to smooth out the distribution and handle outliers)\n",
    "\n",
    "train = gf.uniform_scaler(train,['bathroom', 'bedroom', 'home_square_feet', 'lot_square_feet', 'structure_value', 'total_value', 'land_value', 'tax_amount'])\n",
    "test = gf.uniform_scaler(test,['bathroom', 'bedroom', 'home_square_feet', 'lot_square_feet', 'structure_value', 'total_value', 'land_value', 'tax_amount'])"
   ]
  },
  {
   "cell_type": "code",
   "execution_count": 28,
   "metadata": {},
   "outputs": [],
   "source": [
    "X_train = train.drop(columns='target')\n",
    "y_train = train[['target']]"
   ]
  },
  {
   "cell_type": "code",
   "execution_count": 29,
   "metadata": {},
   "outputs": [
    {
     "data": {
      "text/html": [
       "<div>\n",
       "<style scoped>\n",
       "    .dataframe tbody tr th:only-of-type {\n",
       "        vertical-align: middle;\n",
       "    }\n",
       "\n",
       "    .dataframe tbody tr th {\n",
       "        vertical-align: top;\n",
       "    }\n",
       "\n",
       "    .dataframe thead th {\n",
       "        text-align: right;\n",
       "    }\n",
       "</style>\n",
       "<table border=\"1\" class=\"dataframe\">\n",
       "  <thead>\n",
       "    <tr style=\"text-align: right;\">\n",
       "      <th></th>\n",
       "      <th>fips</th>\n",
       "      <th>home_value_square_footage</th>\n",
       "      <th>land_value_square_footage</th>\n",
       "      <th>age</th>\n",
       "      <th>latitude</th>\n",
       "      <th>longitude</th>\n",
       "      <th>bathroom</th>\n",
       "      <th>bedroom</th>\n",
       "      <th>home_square_feet</th>\n",
       "      <th>lot_square_feet</th>\n",
       "      <th>structure_value</th>\n",
       "      <th>total_value</th>\n",
       "      <th>land_value</th>\n",
       "      <th>tax_amount</th>\n",
       "    </tr>\n",
       "  </thead>\n",
       "  <tbody>\n",
       "    <tr>\n",
       "      <th>33257</th>\n",
       "      <td>6037.0</td>\n",
       "      <td>75.428571</td>\n",
       "      <td>33.667333</td>\n",
       "      <td>0.123188</td>\n",
       "      <td>0.436386</td>\n",
       "      <td>0.536519</td>\n",
       "      <td>0.808081</td>\n",
       "      <td>0.797980</td>\n",
       "      <td>0.570146</td>\n",
       "      <td>0.023314</td>\n",
       "      <td>0.513659</td>\n",
       "      <td>0.353399</td>\n",
       "      <td>0.348650</td>\n",
       "      <td>0.398947</td>\n",
       "    </tr>\n",
       "    <tr>\n",
       "      <th>8306</th>\n",
       "      <td>6037.0</td>\n",
       "      <td>122.627368</td>\n",
       "      <td>23.092894</td>\n",
       "      <td>0.369565</td>\n",
       "      <td>0.406621</td>\n",
       "      <td>0.531622</td>\n",
       "      <td>0.000000</td>\n",
       "      <td>0.439394</td>\n",
       "      <td>0.086700</td>\n",
       "      <td>0.028712</td>\n",
       "      <td>0.468921</td>\n",
       "      <td>0.292398</td>\n",
       "      <td>0.298502</td>\n",
       "      <td>0.261001</td>\n",
       "    </tr>\n",
       "    <tr>\n",
       "      <th>25859</th>\n",
       "      <td>6037.0</td>\n",
       "      <td>36.838376</td>\n",
       "      <td>5.042525</td>\n",
       "      <td>0.398551</td>\n",
       "      <td>0.587934</td>\n",
       "      <td>0.215137</td>\n",
       "      <td>0.474747</td>\n",
       "      <td>0.439394</td>\n",
       "      <td>0.291246</td>\n",
       "      <td>0.609963</td>\n",
       "      <td>0.126087</td>\n",
       "      <td>0.116949</td>\n",
       "      <td>0.175673</td>\n",
       "      <td>0.084909</td>\n",
       "    </tr>\n",
       "    <tr>\n",
       "      <th>30676</th>\n",
       "      <td>6037.0</td>\n",
       "      <td>122.343246</td>\n",
       "      <td>28.677967</td>\n",
       "      <td>0.282609</td>\n",
       "      <td>0.533734</td>\n",
       "      <td>0.947162</td>\n",
       "      <td>0.474747</td>\n",
       "      <td>0.439394</td>\n",
       "      <td>0.701362</td>\n",
       "      <td>0.900550</td>\n",
       "      <td>0.812084</td>\n",
       "      <td>0.823291</td>\n",
       "      <td>0.815276</td>\n",
       "      <td>0.857338</td>\n",
       "    </tr>\n",
       "    <tr>\n",
       "      <th>30916</th>\n",
       "      <td>6037.0</td>\n",
       "      <td>89.055060</td>\n",
       "      <td>5.791573</td>\n",
       "      <td>0.282609</td>\n",
       "      <td>0.455024</td>\n",
       "      <td>0.831446</td>\n",
       "      <td>0.474747</td>\n",
       "      <td>0.797980</td>\n",
       "      <td>0.711517</td>\n",
       "      <td>0.623167</td>\n",
       "      <td>0.694966</td>\n",
       "      <td>0.346976</td>\n",
       "      <td>0.203554</td>\n",
       "      <td>0.308010</td>\n",
       "    </tr>\n",
       "  </tbody>\n",
       "</table>\n",
       "</div>"
      ],
      "text/plain": [
       "         fips  home_value_square_footage  land_value_square_footage       age  \\\n",
       "33257  6037.0                  75.428571                  33.667333  0.123188   \n",
       "8306   6037.0                 122.627368                  23.092894  0.369565   \n",
       "25859  6037.0                  36.838376                   5.042525  0.398551   \n",
       "30676  6037.0                 122.343246                  28.677967  0.282609   \n",
       "30916  6037.0                  89.055060                   5.791573  0.282609   \n",
       "\n",
       "       latitude  longitude  bathroom   bedroom  home_square_feet  \\\n",
       "33257  0.436386   0.536519  0.808081  0.797980          0.570146   \n",
       "8306   0.406621   0.531622  0.000000  0.439394          0.086700   \n",
       "25859  0.587934   0.215137  0.474747  0.439394          0.291246   \n",
       "30676  0.533734   0.947162  0.474747  0.439394          0.701362   \n",
       "30916  0.455024   0.831446  0.474747  0.797980          0.711517   \n",
       "\n",
       "       lot_square_feet  structure_value  total_value  land_value  tax_amount  \n",
       "33257         0.023314         0.513659     0.353399    0.348650    0.398947  \n",
       "8306          0.028712         0.468921     0.292398    0.298502    0.261001  \n",
       "25859         0.609963         0.126087     0.116949    0.175673    0.084909  \n",
       "30676         0.900550         0.812084     0.823291    0.815276    0.857338  \n",
       "30916         0.623167         0.694966     0.346976    0.203554    0.308010  "
      ]
     },
     "execution_count": 29,
     "metadata": {},
     "output_type": "execute_result"
    }
   ],
   "source": [
    "X_train.head()"
   ]
  },
  {
   "cell_type": "code",
   "execution_count": 30,
   "metadata": {},
   "outputs": [
    {
     "data": {
      "text/html": [
       "<div>\n",
       "<style scoped>\n",
       "    .dataframe tbody tr th:only-of-type {\n",
       "        vertical-align: middle;\n",
       "    }\n",
       "\n",
       "    .dataframe tbody tr th {\n",
       "        vertical-align: top;\n",
       "    }\n",
       "\n",
       "    .dataframe thead th {\n",
       "        text-align: right;\n",
       "    }\n",
       "</style>\n",
       "<table border=\"1\" class=\"dataframe\">\n",
       "  <thead>\n",
       "    <tr style=\"text-align: right;\">\n",
       "      <th></th>\n",
       "      <th>target</th>\n",
       "    </tr>\n",
       "  </thead>\n",
       "  <tbody>\n",
       "    <tr>\n",
       "      <th>33257</th>\n",
       "      <td>0.005565</td>\n",
       "    </tr>\n",
       "    <tr>\n",
       "      <th>8306</th>\n",
       "      <td>0.452906</td>\n",
       "    </tr>\n",
       "    <tr>\n",
       "      <th>25859</th>\n",
       "      <td>0.020907</td>\n",
       "    </tr>\n",
       "    <tr>\n",
       "      <th>30676</th>\n",
       "      <td>0.012864</td>\n",
       "    </tr>\n",
       "    <tr>\n",
       "      <th>30916</th>\n",
       "      <td>0.007597</td>\n",
       "    </tr>\n",
       "  </tbody>\n",
       "</table>\n",
       "</div>"
      ],
      "text/plain": [
       "         target\n",
       "33257  0.005565\n",
       "8306   0.452906\n",
       "25859  0.020907\n",
       "30676  0.012864\n",
       "30916  0.007597"
      ]
     },
     "execution_count": 30,
     "metadata": {},
     "output_type": "execute_result"
    }
   ],
   "source": [
    "y_train.head()"
   ]
  },
  {
   "cell_type": "code",
   "execution_count": 31,
   "metadata": {},
   "outputs": [
    {
     "data": {
      "text/plain": [
       "target                          0.081899\n",
       "fips                         6037.004416\n",
       "home_value_square_footage      90.518032\n",
       "land_value_square_footage      40.968673\n",
       "age                             0.418692\n",
       "latitude                        0.526978\n",
       "longitude                       0.524213\n",
       "bathroom                        0.488470\n",
       "bedroom                         0.515254\n",
       "home_square_feet                0.518310\n",
       "lot_square_feet                 0.506307\n",
       "structure_value                 0.507789\n",
       "total_value                     0.507428\n",
       "land_value                      0.505919\n",
       "tax_amount                      0.506962\n",
       "dtype: float64"
      ]
     },
     "execution_count": 31,
     "metadata": {},
     "output_type": "execute_result"
    }
   ],
   "source": [
    "train[train.target > 0].mean()"
   ]
  },
  {
   "cell_type": "code",
   "execution_count": 32,
   "metadata": {},
   "outputs": [
    {
     "data": {
      "text/plain": [
       "target                         -0.068046\n",
       "fips                         6037.003676\n",
       "home_value_square_footage      90.428961\n",
       "land_value_square_footage      39.519948\n",
       "age                             0.433634\n",
       "latitude                        0.530344\n",
       "longitude                       0.528297\n",
       "bathroom                        0.448830\n",
       "bedroom                         0.481751\n",
       "home_square_feet                0.477126\n",
       "lot_square_feet                 0.491834\n",
       "structure_value                 0.490066\n",
       "total_value                     0.490615\n",
       "land_value                      0.492507\n",
       "tax_amount                      0.491223\n",
       "dtype: float64"
      ]
     },
     "execution_count": 32,
     "metadata": {},
     "output_type": "execute_result"
    }
   ],
   "source": [
    "train[train.target < 0].mean()"
   ]
  },
  {
   "cell_type": "code",
   "execution_count": 33,
   "metadata": {},
   "outputs": [
    {
     "data": {
      "text/plain": [
       "0.015217332551863352"
      ]
     },
     "execution_count": 33,
     "metadata": {},
     "output_type": "execute_result"
    }
   ],
   "source": [
    "train.target.mean()"
   ]
  },
  {
   "cell_type": "code",
   "execution_count": 34,
   "metadata": {},
   "outputs": [
    {
     "data": {
      "text/plain": [
       "target                       14944\n",
       "fips                         14944\n",
       "home_value_square_footage    14944\n",
       "land_value_square_footage    14944\n",
       "age                          14944\n",
       "latitude                     14944\n",
       "longitude                    14944\n",
       "bathroom                     14944\n",
       "bedroom                      14944\n",
       "home_square_feet             14944\n",
       "lot_square_feet              14944\n",
       "structure_value              14944\n",
       "total_value                  14944\n",
       "land_value                   14944\n",
       "tax_amount                   14944\n",
       "dtype: int64"
      ]
     },
     "execution_count": 34,
     "metadata": {},
     "output_type": "execute_result"
    }
   ],
   "source": [
    "train[train.target > 0].count()"
   ]
  },
  {
   "cell_type": "code",
   "execution_count": 35,
   "metadata": {},
   "outputs": [
    {
     "data": {
      "text/plain": [
       "target                       11968\n",
       "fips                         11968\n",
       "home_value_square_footage    11968\n",
       "land_value_square_footage    11968\n",
       "age                          11968\n",
       "latitude                     11968\n",
       "longitude                    11968\n",
       "bathroom                     11968\n",
       "bedroom                      11968\n",
       "home_square_feet             11968\n",
       "lot_square_feet              11968\n",
       "structure_value              11968\n",
       "total_value                  11968\n",
       "land_value                   11968\n",
       "tax_amount                   11968\n",
       "dtype: int64"
      ]
     },
     "execution_count": 35,
     "metadata": {},
     "output_type": "execute_result"
    }
   ],
   "source": [
    "train[train.target < 0].count()"
   ]
  },
  {
   "cell_type": "code",
   "execution_count": 36,
   "metadata": {},
   "outputs": [
    {
     "data": {
      "text/plain": [
       "target                       0.555291\n",
       "fips                         0.555291\n",
       "home_value_square_footage    0.555291\n",
       "land_value_square_footage    0.555291\n",
       "age                          0.555291\n",
       "latitude                     0.555291\n",
       "longitude                    0.555291\n",
       "bathroom                     0.555291\n",
       "bedroom                      0.555291\n",
       "home_square_feet             0.555291\n",
       "lot_square_feet              0.555291\n",
       "structure_value              0.555291\n",
       "total_value                  0.555291\n",
       "land_value                   0.555291\n",
       "tax_amount                   0.555291\n",
       "dtype: float64"
      ]
     },
     "execution_count": 36,
     "metadata": {},
     "output_type": "execute_result"
    }
   ],
   "source": [
    "train[train.target > 0].count() /(train[train.target > 0].count() + train[train.target < 0].count())"
   ]
  },
  {
   "cell_type": "markdown",
   "metadata": {},
   "source": [
    "Differinces in over and underestimation\n",
    "\n",
    "over mean = .081\n",
    "\n",
    "over %56\n",
    "\n",
    "under mean = -.0680\n",
    "\n",
    "under %44\n"
   ]
  },
  {
   "cell_type": "code",
   "execution_count": 37,
   "metadata": {},
   "outputs": [
    {
     "data": {
      "text/plain": [
       "Ttest_indResult(statistic=-0.00021801657840273504, pvalue=0.9998275938430903)"
      ]
     },
     "execution_count": 37,
     "metadata": {},
     "output_type": "execute_result"
    }
   ],
   "source": [
    "stats.ttest_ind(train[train.target < 0].mean(),train[train.target > 0].mean())"
   ]
  },
  {
   "cell_type": "markdown",
   "metadata": {},
   "source": [
    "There is no significant differince in the overestimations and underestimations"
   ]
  },
  {
   "cell_type": "code",
   "execution_count": 38,
   "metadata": {},
   "outputs": [],
   "source": [
    "train['absolute_target']= train.target.abs()"
   ]
  },
  {
   "cell_type": "code",
   "execution_count": 39,
   "metadata": {},
   "outputs": [],
   "source": [
    "# plt.figure(figsize=(12,12))\n",
    "# sns.heatmap(train.corr(), cmap='RdYlBu', annot=True, center=0)"
   ]
  },
  {
   "cell_type": "code",
   "execution_count": 40,
   "metadata": {
    "scrolled": true
   },
   "outputs": [],
   "source": [
    "# plt.figure(figsize=(22,22))\n",
    "# sns.pairplot(train)\n",
    "# plt.show()"
   ]
  },
  {
   "cell_type": "code",
   "execution_count": 41,
   "metadata": {},
   "outputs": [],
   "source": [
    "# plt.figure(figsize=(22,22))\n",
    "# sns.pairplot(train[['target', 'home_value_square_footage','land_value_square_footage']])\n",
    "# plt.show()"
   ]
  },
  {
   "cell_type": "markdown",
   "metadata": {},
   "source": [
    "home_value_square_footage and land_value_square_foortage show a correlation with logerror \n",
    "\n",
    "Going to try correlating home_value_square_footage and land_value_square_foortage  with longitude and latitude and see if a useful patrern emerges"
   ]
  },
  {
   "cell_type": "code",
   "execution_count": 43,
   "metadata": {},
   "outputs": [
    {
     "name": "stdout",
     "output_type": "stream",
     "text": [
      "   k           sse\n",
      "0  1  2.156603e+08\n",
      "1  2  1.328536e+08\n",
      "2  3  9.908254e+07\n",
      "3  4  7.820217e+07\n",
      "4  5  6.368496e+07\n",
      "5  6  5.350922e+07\n",
      "6  7  4.565532e+07\n",
      "7  8  3.894241e+07\n",
      "8  9  3.372761e+07\n"
     ]
    },
    {
     "data": {
      "image/png": "[encoded data removed]",
      "text/plain": [
       "<Figure size 432x288 with 1 Axes>"
      ]
     },
     "metadata": {
      "needs_background": "light"
     },
     "output_type": "display_data"
    }
   ],
   "source": [
    "ks = range(1,10)\n",
    "sse = []\n",
    "for k in ks:\n",
    "    kmeans = KMeans(n_clusters=k)\n",
    "    kmeans.fit(train)\n",
    "\n",
    "    # inertia: Sum of squared distances of samples to their closest cluster center.\n",
    "    sse.append(kmeans.inertia_)\n",
    "\n",
    "print(pd.DataFrame(dict(k=ks, sse=sse)))\n",
    "\n",
    "plt.plot(ks, sse, 'bx-')\n",
    "plt.xlabel('k')\n",
    "plt.ylabel('SSE')\n",
    "plt.title('The Elbow Method to find the optimal k')\n",
    "plt.show()"
   ]
  },
  {
   "cell_type": "code",
   "execution_count": null,
   "metadata": {},
   "outputs": [],
   "source": []
  }
 ],
 "metadata": {
  "kernelspec": {
   "display_name": "Python 3",
   "language": "python",
   "name": "python3"
  },
  "language_info": {
   "codemirror_mode": {
    "name": "ipython",
    "version": 3
   },
   "file_extension": ".py",
   "mimetype": "text/x-python",
   "name": "python",
   "nbconvert_exporter": "python",
   "pygments_lexer": "ipython3",
   "version": "3.7.3"
  }
 },
 "nbformat": 4,
 "nbformat_minor": 2
}
