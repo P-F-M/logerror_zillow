{
 "cells": [
  {
   "cell_type": "code",
   "execution_count": 1,
   "metadata": {},
   "outputs": [],
   "source": [
    "#import statements\n",
    "import warnings\n",
    "warnings.filterwarnings(\"ignore\")\n",
    "\n",
    "import pandas as pd\n",
    "import env\n",
    "import scipy.stats as stats\n",
    "import numpy as np\n",
    "from sklearn.impute import SimpleImputer\n",
    "from sklearn.preprocessing import StandardScaler, QuantileTransformer, PowerTransformer,RobustScaler,MinMaxScaler\n",
    "\n",
    "\n",
    "import get_function as gf"
   ]
  },
  {
   "cell_type": "markdown",
   "metadata": {},
   "source": [
    "**Aquire**"
   ]
  },
  {
   "cell_type": "code",
   "execution_count": 2,
   "metadata": {},
   "outputs": [],
   "source": [
    "# Import from zillow\n",
    "df = gf.get_zillow_data()"
   ]
  },
  {
   "cell_type": "code",
   "execution_count": 3,
   "metadata": {},
   "outputs": [
    {
     "data": {
      "text/html": [
       "<div>\n",
       "<style scoped>\n",
       "    .dataframe tbody tr th:only-of-type {\n",
       "        vertical-align: middle;\n",
       "    }\n",
       "\n",
       "    .dataframe tbody tr th {\n",
       "        vertical-align: top;\n",
       "    }\n",
       "\n",
       "    .dataframe thead th {\n",
       "        text-align: right;\n",
       "    }\n",
       "</style>\n",
       "<table border=\"1\" class=\"dataframe\">\n",
       "  <thead>\n",
       "    <tr style=\"text-align: right;\">\n",
       "      <th></th>\n",
       "      <th>parcelid</th>\n",
       "      <th>logerror</th>\n",
       "      <th>transactiondate</th>\n",
       "      <th>id</th>\n",
       "      <th>parcelid</th>\n",
       "      <th>airconditioningtypeid</th>\n",
       "      <th>architecturalstyletypeid</th>\n",
       "      <th>basementsqft</th>\n",
       "      <th>bathroomcnt</th>\n",
       "      <th>bedroomcnt</th>\n",
       "      <th>...</th>\n",
       "      <th>numberofstories</th>\n",
       "      <th>fireplaceflag</th>\n",
       "      <th>structuretaxvaluedollarcnt</th>\n",
       "      <th>taxvaluedollarcnt</th>\n",
       "      <th>assessmentyear</th>\n",
       "      <th>landtaxvaluedollarcnt</th>\n",
       "      <th>taxamount</th>\n",
       "      <th>taxdelinquencyflag</th>\n",
       "      <th>taxdelinquencyyear</th>\n",
       "      <th>censustractandblock</th>\n",
       "    </tr>\n",
       "  </thead>\n",
       "  <tbody>\n",
       "    <tr>\n",
       "      <th>0</th>\n",
       "      <td>12177905</td>\n",
       "      <td>-0.103410</td>\n",
       "      <td>2017-01-01</td>\n",
       "      <td>2288172</td>\n",
       "      <td>12177905</td>\n",
       "      <td>NaN</td>\n",
       "      <td>None</td>\n",
       "      <td>None</td>\n",
       "      <td>3.0</td>\n",
       "      <td>4.0</td>\n",
       "      <td>...</td>\n",
       "      <td>NaN</td>\n",
       "      <td>None</td>\n",
       "      <td>108918.0</td>\n",
       "      <td>145143.0</td>\n",
       "      <td>2016.0</td>\n",
       "      <td>36225.0</td>\n",
       "      <td>1777.51</td>\n",
       "      <td>None</td>\n",
       "      <td>NaN</td>\n",
       "      <td>6.037300e+13</td>\n",
       "    </tr>\n",
       "    <tr>\n",
       "      <th>1</th>\n",
       "      <td>12095076</td>\n",
       "      <td>-0.001011</td>\n",
       "      <td>2017-01-01</td>\n",
       "      <td>781532</td>\n",
       "      <td>12095076</td>\n",
       "      <td>1.0</td>\n",
       "      <td>None</td>\n",
       "      <td>None</td>\n",
       "      <td>3.0</td>\n",
       "      <td>4.0</td>\n",
       "      <td>...</td>\n",
       "      <td>NaN</td>\n",
       "      <td>None</td>\n",
       "      <td>276684.0</td>\n",
       "      <td>773303.0</td>\n",
       "      <td>2016.0</td>\n",
       "      <td>496619.0</td>\n",
       "      <td>9516.26</td>\n",
       "      <td>None</td>\n",
       "      <td>NaN</td>\n",
       "      <td>6.037461e+13</td>\n",
       "    </tr>\n",
       "    <tr>\n",
       "      <th>2</th>\n",
       "      <td>12069064</td>\n",
       "      <td>0.101723</td>\n",
       "      <td>2017-01-01</td>\n",
       "      <td>870991</td>\n",
       "      <td>12069064</td>\n",
       "      <td>NaN</td>\n",
       "      <td>None</td>\n",
       "      <td>None</td>\n",
       "      <td>1.0</td>\n",
       "      <td>2.0</td>\n",
       "      <td>...</td>\n",
       "      <td>NaN</td>\n",
       "      <td>None</td>\n",
       "      <td>18890.0</td>\n",
       "      <td>218552.0</td>\n",
       "      <td>2016.0</td>\n",
       "      <td>199662.0</td>\n",
       "      <td>2366.08</td>\n",
       "      <td>None</td>\n",
       "      <td>NaN</td>\n",
       "      <td>6.037302e+13</td>\n",
       "    </tr>\n",
       "    <tr>\n",
       "      <th>3</th>\n",
       "      <td>12790562</td>\n",
       "      <td>-0.040966</td>\n",
       "      <td>2017-01-02</td>\n",
       "      <td>1246926</td>\n",
       "      <td>12790562</td>\n",
       "      <td>NaN</td>\n",
       "      <td>None</td>\n",
       "      <td>None</td>\n",
       "      <td>3.0</td>\n",
       "      <td>4.0</td>\n",
       "      <td>...</td>\n",
       "      <td>NaN</td>\n",
       "      <td>None</td>\n",
       "      <td>177527.0</td>\n",
       "      <td>220583.0</td>\n",
       "      <td>2016.0</td>\n",
       "      <td>43056.0</td>\n",
       "      <td>3104.19</td>\n",
       "      <td>None</td>\n",
       "      <td>NaN</td>\n",
       "      <td>6.037500e+13</td>\n",
       "    </tr>\n",
       "    <tr>\n",
       "      <th>4</th>\n",
       "      <td>11104527</td>\n",
       "      <td>0.005963</td>\n",
       "      <td>2017-01-02</td>\n",
       "      <td>1639362</td>\n",
       "      <td>11104527</td>\n",
       "      <td>1.0</td>\n",
       "      <td>None</td>\n",
       "      <td>None</td>\n",
       "      <td>3.0</td>\n",
       "      <td>4.0</td>\n",
       "      <td>...</td>\n",
       "      <td>NaN</td>\n",
       "      <td>None</td>\n",
       "      <td>271715.0</td>\n",
       "      <td>430108.0</td>\n",
       "      <td>2016.0</td>\n",
       "      <td>158393.0</td>\n",
       "      <td>6103.36</td>\n",
       "      <td>None</td>\n",
       "      <td>NaN</td>\n",
       "      <td>6.037920e+13</td>\n",
       "    </tr>\n",
       "  </tbody>\n",
       "</table>\n",
       "<p>5 rows × 62 columns</p>\n",
       "</div>"
      ],
      "text/plain": [
       "   parcelid  logerror transactiondate       id  parcelid  \\\n",
       "0  12177905 -0.103410      2017-01-01  2288172  12177905   \n",
       "1  12095076 -0.001011      2017-01-01   781532  12095076   \n",
       "2  12069064  0.101723      2017-01-01   870991  12069064   \n",
       "3  12790562 -0.040966      2017-01-02  1246926  12790562   \n",
       "4  11104527  0.005963      2017-01-02  1639362  11104527   \n",
       "\n",
       "   airconditioningtypeid architecturalstyletypeid basementsqft  bathroomcnt  \\\n",
       "0                    NaN                     None         None          3.0   \n",
       "1                    1.0                     None         None          3.0   \n",
       "2                    NaN                     None         None          1.0   \n",
       "3                    NaN                     None         None          3.0   \n",
       "4                    1.0                     None         None          3.0   \n",
       "\n",
       "   bedroomcnt  ... numberofstories  fireplaceflag  structuretaxvaluedollarcnt  \\\n",
       "0         4.0  ...             NaN           None                    108918.0   \n",
       "1         4.0  ...             NaN           None                    276684.0   \n",
       "2         2.0  ...             NaN           None                     18890.0   \n",
       "3         4.0  ...             NaN           None                    177527.0   \n",
       "4         4.0  ...             NaN           None                    271715.0   \n",
       "\n",
       "  taxvaluedollarcnt assessmentyear  landtaxvaluedollarcnt  taxamount  \\\n",
       "0          145143.0         2016.0                36225.0    1777.51   \n",
       "1          773303.0         2016.0               496619.0    9516.26   \n",
       "2          218552.0         2016.0               199662.0    2366.08   \n",
       "3          220583.0         2016.0                43056.0    3104.19   \n",
       "4          430108.0         2016.0               158393.0    6103.36   \n",
       "\n",
       "  taxdelinquencyflag taxdelinquencyyear censustractandblock  \n",
       "0               None                NaN        6.037300e+13  \n",
       "1               None                NaN        6.037461e+13  \n",
       "2               None                NaN        6.037302e+13  \n",
       "3               None                NaN        6.037500e+13  \n",
       "4               None                NaN        6.037920e+13  \n",
       "\n",
       "[5 rows x 62 columns]"
      ]
     },
     "execution_count": 3,
     "metadata": {},
     "output_type": "execute_result"
    }
   ],
   "source": [
    "df.head()"
   ]
  },
  {
   "cell_type": "code",
   "execution_count": 4,
   "metadata": {},
   "outputs": [
    {
     "data": {
      "text/plain": [
       "(33701, 62)"
      ]
     },
     "execution_count": 4,
     "metadata": {},
     "output_type": "execute_result"
    }
   ],
   "source": [
    "df.shape"
   ]
  },
  {
   "cell_type": "markdown",
   "metadata": {},
   "source": [
    "**Prepare**"
   ]
  },
  {
   "cell_type": "code",
   "execution_count": 5,
   "metadata": {},
   "outputs": [],
   "source": [
    "# dropp columns with less than 60% of data non-null and rows with more than 75% of data non-null\n",
    "df = gf.handle_missing_values(df, prop_required_column = .6, prop_required_row = .75)"
   ]
  },
  {
   "cell_type": "code",
   "execution_count": 6,
   "metadata": {},
   "outputs": [
    {
     "data": {
      "text/plain": [
       "parcelid                          0\n",
       "logerror                          0\n",
       "transactiondate                   0\n",
       "id                                0\n",
       "parcelid                          0\n",
       "bathroomcnt                       0\n",
       "bedroomcnt                        0\n",
       "buildingqualitytypeid           127\n",
       "calculatedbathnbr                 0\n",
       "calculatedfinishedsquarefeet      0\n",
       "finishedsquarefeet12              0\n",
       "fips                              0\n",
       "fullbathcnt                       0\n",
       "heatingorsystemtypeid           536\n",
       "latitude                          0\n",
       "longitude                         0\n",
       "lotsizesquarefeet               304\n",
       "propertycountylandusecode         0\n",
       "propertylandusetypeid             0\n",
       "propertyzoningdesc               68\n",
       "rawcensustractandblock            0\n",
       "regionidcity                    694\n",
       "regionidcounty                    0\n",
       "regionidzip                      12\n",
       "roomcnt                           0\n",
       "unitcnt                           0\n",
       "yearbuilt                         7\n",
       "structuretaxvaluedollarcnt       60\n",
       "taxvaluedollarcnt                 0\n",
       "assessmentyear                    0\n",
       "landtaxvaluedollarcnt             0\n",
       "taxamount                         4\n",
       "censustractandblock              61\n",
       "dtype: int64"
      ]
     },
     "execution_count": 6,
     "metadata": {},
     "output_type": "execute_result"
    }
   ],
   "source": [
    "df.isnull().sum()"
   ]
  },
  {
   "cell_type": "code",
   "execution_count": 7,
   "metadata": {},
   "outputs": [
    {
     "data": {
      "text/plain": [
       "(33701, 33)"
      ]
     },
     "execution_count": 7,
     "metadata": {},
     "output_type": "execute_result"
    }
   ],
   "source": [
    "df.shape"
   ]
  },
  {
   "cell_type": "code",
   "execution_count": 8,
   "metadata": {},
   "outputs": [],
   "source": [
    "# removing unnessesery columns\n",
    "df = gf.remove_columns(df, ['roomcnt','assessmentyear','unitcnt','regionidzip','regionidcounty','propertylandusetypeid','propertycountylandusecode','fullbathcnt','calculatedbathnbr','rawcensustractandblock','finishedsquarefeet12','parcelid','transactiondate','id','regionidcity','buildingqualitytypeid','heatingorsystemtypeid','propertyzoningdesc','censustractandblock'])"
   ]
  },
  {
   "cell_type": "code",
   "execution_count": 9,
   "metadata": {},
   "outputs": [
    {
     "data": {
      "text/plain": [
       "logerror                          0\n",
       "bathroomcnt                       0\n",
       "bedroomcnt                        0\n",
       "calculatedfinishedsquarefeet      0\n",
       "fips                              0\n",
       "latitude                          0\n",
       "longitude                         0\n",
       "lotsizesquarefeet               304\n",
       "yearbuilt                         7\n",
       "structuretaxvaluedollarcnt       60\n",
       "taxvaluedollarcnt                 0\n",
       "landtaxvaluedollarcnt             0\n",
       "taxamount                         4\n",
       "dtype: int64"
      ]
     },
     "execution_count": 9,
     "metadata": {},
     "output_type": "execute_result"
    }
   ],
   "source": [
    "df.isnull().sum()"
   ]
  },
  {
   "cell_type": "code",
   "execution_count": 10,
   "metadata": {},
   "outputs": [
    {
     "data": {
      "text/plain": [
       "(33701, 13)"
      ]
     },
     "execution_count": 10,
     "metadata": {},
     "output_type": "execute_result"
    }
   ],
   "source": [
    "df.shape"
   ]
  },
  {
   "cell_type": "code",
   "execution_count": 11,
   "metadata": {},
   "outputs": [],
   "source": [
    "df = df.rename(columns={'lotsizesquarefeet':'lot_square_feet','calculatedfinishedsquarefeet':'home_square_feet', 'logerror': 'target','bathroomcnt': 'bathroom', 'bedroomcnt': 'bedroom','structuretaxvaluedollarcnt':'structure_value','taxvaluedollarcnt': 'total_value','landtaxvaluedollarcnt':'land_value','taxamoun':'tax_amount','taxamount':'tax_amount','yearbuilt':'year_built'})"
   ]
  },
  {
   "cell_type": "code",
   "execution_count": 12,
   "metadata": {},
   "outputs": [],
   "source": [
    "# Covert year built into age years\n",
    "\n",
    "df['age']= 2017 - df.year_built"
   ]
  },
  {
   "cell_type": "code",
   "execution_count": 13,
   "metadata": {},
   "outputs": [],
   "source": [
    "# Drop year built because we added age column\n",
    "\n",
    "df.drop(columns='year_built',inplace=True)"
   ]
  },
  {
   "cell_type": "code",
   "execution_count": 14,
   "metadata": {},
   "outputs": [
    {
     "data": {
      "text/plain": [
       "(array([  397,   875,   878,   940,   959,  1203,  1278,  1324,  1726,\n",
       "         1750,  1927,  2370,  4472,  4703,  5251,  5463,  5514,  5723,\n",
       "         5783,  6108,  6887,  7005,  8739,  9386, 10622, 11406, 11585,\n",
       "        12340, 12850, 13048, 13655, 13739, 14337, 14865, 15060, 18902,\n",
       "        19494, 19762, 20312, 20614, 20917, 21217, 21285, 21661, 22036,\n",
       "        22183, 22185, 23676, 25773, 26889, 27696, 28695, 31024, 31553,\n",
       "        31708, 32148, 32171, 32679, 33018, 33032]),)"
      ]
     },
     "execution_count": 14,
     "metadata": {},
     "output_type": "execute_result"
    }
   ],
   "source": [
    "# Delete rows where tax value amount does not equal land value + structure value\n",
    "\n",
    "np.where(df.total_value - (df.land_value + df.structure_value) != 0)"
   ]
  },
  {
   "cell_type": "code",
   "execution_count": 15,
   "metadata": {},
   "outputs": [],
   "source": [
    "df.drop([397, 875, 878, 940, 959, 1203, 1278, 1324, 1726, 1750, 1927, 2370, 4472, 4703, 5251, 5463, 5514, 5723, 5783, 6108, 6887, 7005, 8739, 9386, 10622, 11406, 11585, 12340, 12850, 13048, 13655, 13739, 14337, 14865, 15060, 18902, 19494, 19762, 20312, 20614, 20917, 21217, 21285, 21661, 22036, 22183, 22185, 23676, 25773, 26889, 27696, 28695, 31024, 31553, 31708, 32148, 32171, 32679, 33018, 33032],axis=0,inplace=True)"
   ]
  },
  {
   "cell_type": "code",
   "execution_count": 16,
   "metadata": {},
   "outputs": [],
   "source": [
    "# Split data (train & test)\n",
    "\n",
    "train, test = gf.split_my_data(df, .80, 123)"
   ]
  },
  {
   "cell_type": "code",
   "execution_count": 17,
   "metadata": {},
   "outputs": [],
   "source": [
    "# impute lot_square_feet,structure_value, and tax_amount for the mean\n",
    "\n",
    "train = gf.imputer_9000(train,['lot_square_feet','structure_value','tax_amount', 'age'],'mean')\n",
    "test = gf.imputer_9000(test,['lot_square_feet','structure_value','tax_amount', 'age'],'mean')"
   ]
  },
  {
   "cell_type": "code",
   "execution_count": 18,
   "metadata": {},
   "outputs": [
    {
     "data": {
      "text/plain": [
       "target              0\n",
       "bathroom            0\n",
       "bedroom             0\n",
       "home_square_feet    0\n",
       "fips                0\n",
       "latitude            0\n",
       "longitude           0\n",
       "lot_square_feet     0\n",
       "structure_value     0\n",
       "total_value         0\n",
       "land_value          0\n",
       "tax_amount          0\n",
       "age                 0\n",
       "dtype: int64"
      ]
     },
     "execution_count": 18,
     "metadata": {},
     "output_type": "execute_result"
    }
   ],
   "source": [
    "train.isnull().sum()"
   ]
  },
  {
   "cell_type": "code",
   "execution_count": 19,
   "metadata": {},
   "outputs": [
    {
     "data": {
      "text/plain": [
       "target              0\n",
       "bathroom            0\n",
       "bedroom             0\n",
       "home_square_feet    0\n",
       "fips                0\n",
       "latitude            0\n",
       "longitude           0\n",
       "lot_square_feet     0\n",
       "structure_value     0\n",
       "total_value         0\n",
       "land_value          0\n",
       "tax_amount          0\n",
       "age                 0\n",
       "dtype: int64"
      ]
     },
     "execution_count": 19,
     "metadata": {},
     "output_type": "execute_result"
    }
   ],
   "source": [
    "test.isnull().sum()"
   ]
  },
  {
   "cell_type": "code",
   "execution_count": 24,
   "metadata": {},
   "outputs": [],
   "source": [
    "train['home_value_square_footage'] = train.structure_value/train.home_square_feet\n",
    "train['land_value_square_footage'] = train.land_value/train.lot_square_feet"
   ]
  },
  {
   "cell_type": "code",
   "execution_count": 21,
   "metadata": {},
   "outputs": [],
   "source": [
    "# Scaling dataframe in two ways"
   ]
  },
  {
   "cell_type": "code",
   "execution_count": 22,
   "metadata": {},
   "outputs": [],
   "source": [
    "# Scale age, latitude, and longitude using MinMax scaler - why (to presrve distance better)\n",
    "\n",
    "train = gf.scaler_min_max(train, ['age', 'latitude', 'longitude'])\n",
    "test = gf.scaler_min_max(test, ['age', 'latitude', 'longitude'])"
   ]
  },
  {
   "cell_type": "code",
   "execution_count": 23,
   "metadata": {},
   "outputs": [],
   "source": [
    "# Scale bathroom, bedroom, home_square_feet, lot_square_feet, structure_value, total_value, land_value, tax_amount using uniform scaler\n",
    "\n",
    "# Scale columns using Uniform scaler (to smooth out the distribution and handle outliers)\n",
    "\n",
    "train = gf.uniform_scaler(train,['bathroom', 'bedroom', 'home_square_feet', 'lot_square_feet', 'structure_value', 'total_value', 'land_value', 'tax_amount'])\n",
    "test = gf.uniform_scaler(test,['bathroom', 'bedroom', 'home_square_feet', 'lot_square_feet', 'structure_value', 'total_value', 'land_value', 'tax_amount'])"
   ]
  },
  {
   "cell_type": "code",
   "execution_count": null,
   "metadata": {},
   "outputs": [],
   "source": []
  },
  {
   "cell_type": "code",
   "execution_count": null,
   "metadata": {},
   "outputs": [],
   "source": []
  },
  {
   "cell_type": "code",
   "execution_count": null,
   "metadata": {},
   "outputs": [],
   "source": []
  },
  {
   "cell_type": "code",
   "execution_count": null,
   "metadata": {},
   "outputs": [],
   "source": []
  },
  {
   "cell_type": "code",
   "execution_count": null,
   "metadata": {},
   "outputs": [],
   "source": []
  },
  {
   "cell_type": "code",
   "execution_count": null,
   "metadata": {},
   "outputs": [],
   "source": []
  },
  {
   "cell_type": "code",
   "execution_count": null,
   "metadata": {},
   "outputs": [],
   "source": []
  }
 ],
 "metadata": {
  "kernelspec": {
   "display_name": "Python 3",
   "language": "python",
   "name": "python3"
  },
  "language_info": {
   "codemirror_mode": {
    "name": "ipython",
    "version": 3
   },
   "file_extension": ".py",
   "mimetype": "text/x-python",
   "name": "python",
   "nbconvert_exporter": "python",
   "pygments_lexer": "ipython3",
   "version": "3.7.3"
  }
 },
 "nbformat": 4,
 "nbformat_minor": 2
}
