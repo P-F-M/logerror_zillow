{
 "cells": [
  {
   "cell_type": "markdown",
   "metadata": {},
   "source": [
    "PROJECT PLANNING"
   ]
  },
  {
   "cell_type": "markdown",
   "metadata": {},
   "source": [
    "Brainstorming and initial thoughts:\n",
    "\n",
    "After a brief google search, I could find only size of home identified as a key driver of property value, within the three target estimators. So, I find it likely that square feet of home will have the most explanatory value. The number of bedrooms and bathrooms in a house seems likely to increase with the size of a property. Because of this, I find it unlikely that these numbers will provide additional explanatory value."
   ]
  },
  {
   "cell_type": "markdown",
   "metadata": {},
   "source": [
    "ACQUIRE"
   ]
  },
  {
   "cell_type": "markdown",
   "metadata": {},
   "source": [
    "I Used SQL inquiry to acquire data from Zillow database on target features and tax value.\n",
    "\n",
    "The taxvaluedollarcnt column was used to represent, Tax Value, and aliased as Tax_Value\n",
    "\n",
    "The lotsizesquarefeet column was used represent, size in square feet, and aliased as Size \n",
    "\n",
    "The bedroomcnt column was used represent, number of bedrooms and aliased as Bedrooms \n",
    "\n",
    "The bathroomcnt column was used to represent, number of bathrooms and aliased  as \"Bathrooms\"\n",
    "          \n",
    "I limited the query to housing types listed as Residential General, Single Family Residential, Rural Residence, Mobile Home, Bungalow, Manufactured, Modular, Prefabricated Homes, Patio Home, or Inferred Single Family Residential to target ‘single unit’ properties.\n",
    "\n",
    "I also limited query to units who's last transaction date was between 2017-05-01 and 2017-06-30 to target units bought during the ‘hot months’ of May and June 2017\n",
    "\n",
    "I only accepted rows that did not have null values in any of the above columns"
   ]
  },
  {
   "cell_type": "code",
   "execution_count": 1,
   "metadata": {},
   "outputs": [],
   "source": [
    "import acquire as a\n",
    "df = a.wrangle_zillow()"
   ]
  },
  {
   "cell_type": "code",
   "execution_count": 2,
   "metadata": {},
   "outputs": [
    {
     "data": {
      "text/html": [
       "<div>\n",
       "<style scoped>\n",
       "    .dataframe tbody tr th:only-of-type {\n",
       "        vertical-align: middle;\n",
       "    }\n",
       "\n",
       "    .dataframe tbody tr th {\n",
       "        vertical-align: top;\n",
       "    }\n",
       "\n",
       "    .dataframe thead th {\n",
       "        text-align: right;\n",
       "    }\n",
       "</style>\n",
       "<table border=\"1\" class=\"dataframe\">\n",
       "  <thead>\n",
       "    <tr style=\"text-align: right;\">\n",
       "      <th></th>\n",
       "      <th>Tax_Value</th>\n",
       "      <th>Size</th>\n",
       "      <th>Bedrooms</th>\n",
       "      <th>Bathrooms</th>\n",
       "    </tr>\n",
       "  </thead>\n",
       "  <tbody>\n",
       "    <tr>\n",
       "      <th>0</th>\n",
       "      <td>498347.0</td>\n",
       "      <td>6211.0</td>\n",
       "      <td>4.0</td>\n",
       "      <td>2.0</td>\n",
       "    </tr>\n",
       "    <tr>\n",
       "      <th>1</th>\n",
       "      <td>549917.0</td>\n",
       "      <td>9109.0</td>\n",
       "      <td>3.0</td>\n",
       "      <td>3.0</td>\n",
       "    </tr>\n",
       "    <tr>\n",
       "      <th>2</th>\n",
       "      <td>235272.0</td>\n",
       "      <td>7538.0</td>\n",
       "      <td>3.0</td>\n",
       "      <td>2.0</td>\n",
       "    </tr>\n",
       "    <tr>\n",
       "      <th>3</th>\n",
       "      <td>340000.0</td>\n",
       "      <td>111564.0</td>\n",
       "      <td>2.0</td>\n",
       "      <td>2.0</td>\n",
       "    </tr>\n",
       "    <tr>\n",
       "      <th>4</th>\n",
       "      <td>2017254.0</td>\n",
       "      <td>10497.0</td>\n",
       "      <td>2.0</td>\n",
       "      <td>3.0</td>\n",
       "    </tr>\n",
       "  </tbody>\n",
       "</table>\n",
       "</div>"
      ],
      "text/plain": [
       "   Tax_Value      Size  Bedrooms  Bathrooms\n",
       "0   498347.0    6211.0       4.0        2.0\n",
       "1   549917.0    9109.0       3.0        3.0\n",
       "2   235272.0    7538.0       3.0        2.0\n",
       "3   340000.0  111564.0       2.0        2.0\n",
       "4  2017254.0   10497.0       2.0        3.0"
      ]
     },
     "execution_count": 2,
     "metadata": {},
     "output_type": "execute_result"
    }
   ],
   "source": [
    "df.head()"
   ]
  },
  {
   "cell_type": "code",
   "execution_count": 3,
   "metadata": {},
   "outputs": [
    {
     "name": "stdout",
     "output_type": "stream",
     "text": [
      "<class 'pandas.core.frame.DataFrame'>\n",
      "RangeIndex: 16026 entries, 0 to 16025\n",
      "Data columns (total 4 columns):\n",
      "Tax_Value    16026 non-null float64\n",
      "Size         16026 non-null float64\n",
      "Bedrooms     16026 non-null float64\n",
      "Bathrooms    16026 non-null float64\n",
      "dtypes: float64(4)\n",
      "memory usage: 500.9 KB\n"
     ]
    },
    {
     "data": {
      "text/plain": [
       "Tax_Value    0\n",
       "Size         0\n",
       "Bedrooms     0\n",
       "Bathrooms    0\n",
       "dtype: int64"
      ]
     },
     "execution_count": 3,
     "metadata": {},
     "output_type": "execute_result"
    }
   ],
   "source": [
    "df.info()\n",
    "df.isnull().sum()"
   ]
  },
  {
   "cell_type": "markdown",
   "metadata": {},
   "source": [
    "PREP"
   ]
  },
  {
   "cell_type": "markdown",
   "metadata": {},
   "source": [
    "Data contains no null values and is of the desired type. No further preparation is needed, outside of the initial SQL inquiry."
   ]
  },
  {
   "cell_type": "markdown",
   "metadata": {},
   "source": [
    "SPLIT AND SCALE"
   ]
  },
  {
   "cell_type": "code",
   "execution_count": 4,
   "metadata": {},
   "outputs": [],
   "source": [
    "# Split Dataframe into x and y\n",
    "x = df.drop(columns='Tax_Value')\n",
    "y = df[['Tax_Value']]"
   ]
  },
  {
   "cell_type": "code",
   "execution_count": 5,
   "metadata": {},
   "outputs": [],
   "source": [
    "# Split x and y data into test and train set for each\n",
    "import split_scale as ss\n",
    "train_pct = .8\n",
    "x_train, x_test, y_train, y_test = ss.split_my_data(x, y, train_pct)"
   ]
  },
  {
   "cell_type": "code",
   "execution_count": 6,
   "metadata": {},
   "outputs": [],
   "source": [
    "# Scale x_train and x_test using standard scaler\n",
    "train = x_train\n",
    "test = x_test\n",
    "\n",
    "x_train, x_test, scaler = ss.standard_scaler(train,test)"
   ]
  },
  {
   "cell_type": "markdown",
   "metadata": {},
   "source": [
    "DATA EXPLORATION"
   ]
  },
  {
   "cell_type": "markdown",
   "metadata": {},
   "source": [
    "I will begin my exploration by using a Pearson’s r test to examine the strength of the correlation between tax value and each of the target variables."
   ]
  },
  {
   "cell_type": "code",
   "execution_count": 7,
   "metadata": {},
   "outputs": [
    {
     "name": "stdout",
     "output_type": "stream",
     "text": [
      "Pearson's r Results:\n",
      "(0.51027887975273, 0.0)\n"
     ]
    }
   ],
   "source": [
    "import data_exploration as de\n",
    "\n",
    "#Bathrooms and Tax_Value\n",
    "var_1 = x_train.Bathrooms\n",
    "var_2 = y_train.Tax_Value\n",
    "\n",
    "de.get_pearsons_r(var_1,var_2)"
   ]
  },
  {
   "cell_type": "code",
   "execution_count": 8,
   "metadata": {},
   "outputs": [
    {
     "name": "stdout",
     "output_type": "stream",
     "text": [
      "Pearson's r Results:\n",
      "(0.25365657618533505, 2.1578396798003654e-187)\n"
     ]
    }
   ],
   "source": [
    "#Bedrooms and Tax_Value\n",
    "var_1 = x_train.Bedrooms\n",
    "var_2 = y_train.Tax_Value\n",
    "\n",
    "de.get_pearsons_r(var_1,var_2)"
   ]
  },
  {
   "cell_type": "code",
   "execution_count": 9,
   "metadata": {},
   "outputs": [
    {
     "name": "stdout",
     "output_type": "stream",
     "text": [
      "Pearson's r Results:\n",
      "(0.049808832355318536, 1.675213873880396e-08)\n"
     ]
    }
   ],
   "source": [
    "#Size and Tax_Value\n",
    "var_1 = x_train.Size\n",
    "var_2 = y_train.Tax_Value\n",
    "\n",
    "de.get_pearsons_r(var_1,var_2)"
   ]
  },
  {
   "cell_type": "code",
   "execution_count": 12,
   "metadata": {},
   "outputs": [
    {
     "data": {
      "image/png": "[encoded data removed]",
      "text/plain": [
       "<Figure size 432x288 with 1 Axes>"
      ]
     },
     "metadata": {
      "needs_background": "light"
     },
     "output_type": "display_data"
    }
   ],
   "source": [
    "import numpy as np\n",
    "import matplotlib.pyplot as plt\n",
    "\n",
    "objects = ('Bedrooms','Bathrooms','Size')\n",
    "y_pos = np.arange(len(objects))\n",
    "performance = [.51,.25,.05]\n",
    "\n",
    "plt.barh(y_pos, performance, align='center', alpha=0.5)\n",
    "plt.yticks(y_pos, objects)\n",
    "plt.xlabel('Amount Correlated',color='white')\n",
    "plt.title('Correlation with Tax_Value', color='white')\n",
    "\n",
    "plt.show()"
   ]
  },
  {
   "cell_type": "markdown",
   "metadata": {},
   "source": [
    "Each Pearson’s r test showed a high level of significance and the following correlation strengths when compared to tax value\n",
    "\n",
    "Bathrooms: .51\n",
    "\n",
    "Bedrooms: .25\n",
    "\n",
    "Size: .05\n",
    "\n",
    "Because of its low correlation Size is not likely to provide significant explanatory value.\n",
    "\n",
    "Bedrooms and Bathrooms each have a much higher correlation. \n",
    "\n",
    "I will now perform a Pearson's r test to determine if Bedrooms and Bathrooms are correlated. If they are not, we may gain a significant amount of explanatory value from combining both variables."
   ]
  },
  {
   "cell_type": "code",
   "execution_count": 13,
   "metadata": {},
   "outputs": [
    {
     "name": "stdout",
     "output_type": "stream",
     "text": [
      "Pearson's r Results:\n",
      "(0.6694723725941977, 0.0)\n"
     ]
    }
   ],
   "source": [
    "var_1 = x_train.Bedrooms\n",
    "var_2 = x_train.Bathrooms\n",
    "\n",
    "de.get_pearsons_r(var_1,var_2)"
   ]
  },
  {
   "cell_type": "markdown",
   "metadata": {},
   "source": [
    "Bedrooms and Bathrooms are highly correlated (.67). Therefore, using more than one of these variables as predicters would not result in significant additional explanatory value. Therefore, we should proceed using only the variable that is most highly correlated with tax value. That variable is Bathrooms."
   ]
  },
  {
   "cell_type": "markdown",
   "metadata": {},
   "source": [
    "FEATURE SELECTION"
   ]
  },
  {
   "cell_type": "markdown",
   "metadata": {},
   "source": [
    "Feature selection has been largely placed on hold unless time permits for reviewing features outside of the three target features, per educator instruction"
   ]
  },
  {
   "cell_type": "markdown",
   "metadata": {},
   "source": [
    "Based on my previous tests, of the target features I have considered I would use only the Bathrooms feature.\n",
    "\n",
    "I will now create a the data frame to be used for the model. It will contain the train group of the bedroom feature, scaled using a standard scaler and the train group of Tax_value unscaled."
   ]
  },
  {
   "cell_type": "code",
   "execution_count": 14,
   "metadata": {
    "scrolled": true
   },
   "outputs": [],
   "source": [
    "import pandas as pd\n",
    "import warnings\n",
    "warnings.filterwarnings('ignore')\n",
    "\n",
    "model_df = x_train[['Bathrooms']] \n",
    "model_df[['Tax_Value']] = y_train[['Tax_Value']]"
   ]
  },
  {
   "cell_type": "code",
   "execution_count": 15,
   "metadata": {},
   "outputs": [
    {
     "data": {
      "text/html": [
       "<div>\n",
       "<style scoped>\n",
       "    .dataframe tbody tr th:only-of-type {\n",
       "        vertical-align: middle;\n",
       "    }\n",
       "\n",
       "    .dataframe tbody tr th {\n",
       "        vertical-align: top;\n",
       "    }\n",
       "\n",
       "    .dataframe thead th {\n",
       "        text-align: right;\n",
       "    }\n",
       "</style>\n",
       "<table border=\"1\" class=\"dataframe\">\n",
       "  <thead>\n",
       "    <tr style=\"text-align: right;\">\n",
       "      <th></th>\n",
       "      <th>Bathrooms</th>\n",
       "      <th>Tax_Value</th>\n",
       "    </tr>\n",
       "  </thead>\n",
       "  <tbody>\n",
       "    <tr>\n",
       "      <th>4576</th>\n",
       "      <td>-1.152705</td>\n",
       "      <td>269641.0</td>\n",
       "    </tr>\n",
       "    <tr>\n",
       "      <th>11842</th>\n",
       "      <td>-0.190930</td>\n",
       "      <td>134865.0</td>\n",
       "    </tr>\n",
       "    <tr>\n",
       "      <th>10111</th>\n",
       "      <td>-0.190930</td>\n",
       "      <td>465469.0</td>\n",
       "    </tr>\n",
       "    <tr>\n",
       "      <th>5189</th>\n",
       "      <td>-0.190930</td>\n",
       "      <td>446551.0</td>\n",
       "    </tr>\n",
       "    <tr>\n",
       "      <th>15819</th>\n",
       "      <td>-0.190930</td>\n",
       "      <td>97502.0</td>\n",
       "    </tr>\n",
       "  </tbody>\n",
       "</table>\n",
       "</div>"
      ],
      "text/plain": [
       "       Bathrooms  Tax_Value\n",
       "4576   -1.152705   269641.0\n",
       "11842  -0.190930   134865.0\n",
       "10111  -0.190930   465469.0\n",
       "5189   -0.190930   446551.0\n",
       "15819  -0.190930    97502.0"
      ]
     },
     "execution_count": 15,
     "metadata": {},
     "output_type": "execute_result"
    }
   ],
   "source": [
    "model_df.head()"
   ]
  },
  {
   "cell_type": "markdown",
   "metadata": {},
   "source": [
    "MODELING AND EVALUATION"
   ]
  },
  {
   "cell_type": "markdown",
   "metadata": {},
   "source": [
    "First I will generate the baseline error amounts."
   ]
  },
  {
   "cell_type": "code",
   "execution_count": 16,
   "metadata": {},
   "outputs": [],
   "source": [
    "import model as m\n",
    "df = model_df\n",
    "column = \"Tax_Value\"\n",
    "SSE_base, MSE_base, RMSE_base, n_base = m.baseline_mean_errors(df,column)"
   ]
  },
  {
   "cell_type": "markdown",
   "metadata": {},
   "source": [
    "I will now fit the model data frame into a regression model and generate a data frame with predictions for Tax_Value based on the Bedrooms feature. It will have the column name yhat."
   ]
  },
  {
   "cell_type": "code",
   "execution_count": 17,
   "metadata": {},
   "outputs": [],
   "source": [
    "df = model_df\n",
    "x_col = ['Bathrooms']\n",
    "y_col = 'Tax_Value'\n",
    "\n",
    "Bathrooms_yhat = m.get_yhat(df,x_col,y_col)"
   ]
  },
  {
   "cell_type": "markdown",
   "metadata": {},
   "source": [
    "I will now use the predictions produced by the regression model to generate the error amounts for the modle."
   ]
  },
  {
   "cell_type": "code",
   "execution_count": 18,
   "metadata": {},
   "outputs": [],
   "source": [
    "yhat = Bathrooms_yhat[['yhat']]\n",
    "y = model_df[['Tax_Value']]\n",
    "\n",
    "Bathrooms_SSE, Bathrooms_MSE, Bathrooms_RMSE, Bathrooms_R2 = m.regression_errors(y, yhat)"
   ]
  },
  {
   "cell_type": "code",
   "execution_count": 19,
   "metadata": {},
   "outputs": [
    {
     "data": {
      "text/plain": [
       "570367.7764974856"
      ]
     },
     "execution_count": 19,
     "metadata": {},
     "output_type": "execute_result"
    }
   ],
   "source": [
    "Bathrooms_RMSE"
   ]
  },
  {
   "cell_type": "code",
   "execution_count": 20,
   "metadata": {},
   "outputs": [
    {
     "data": {
      "text/plain": [
       "663211.4109961692"
      ]
     },
     "execution_count": 20,
     "metadata": {},
     "output_type": "execute_result"
    }
   ],
   "source": [
    "RMSE_base"
   ]
  },
  {
   "cell_type": "code",
   "execution_count": 21,
   "metadata": {},
   "outputs": [
    {
     "data": {
      "text/plain": [
       "4170594713982911.0"
      ]
     },
     "execution_count": 21,
     "metadata": {},
     "output_type": "execute_result"
    }
   ],
   "source": [
    "Bathrooms_SSE"
   ]
  },
  {
   "cell_type": "code",
   "execution_count": 22,
   "metadata": {},
   "outputs": [
    {
     "data": {
      "text/plain": [
       "5638868996160291.0"
      ]
     },
     "execution_count": 22,
     "metadata": {},
     "output_type": "execute_result"
    }
   ],
   "source": [
    "SSE_base"
   ]
  },
  {
   "cell_type": "code",
   "execution_count": 23,
   "metadata": {},
   "outputs": [
    {
     "data": {
      "text/plain": [
       "325319400466.6857"
      ]
     },
     "execution_count": 23,
     "metadata": {},
     "output_type": "execute_result"
    }
   ],
   "source": [
    "Bathrooms_MSE"
   ]
  },
  {
   "cell_type": "code",
   "execution_count": 24,
   "metadata": {},
   "outputs": [
    {
     "data": {
      "text/plain": [
       "439849375675.5297"
      ]
     },
     "execution_count": 24,
     "metadata": {},
     "output_type": "execute_result"
    }
   ],
   "source": [
    "MSE_base"
   ]
  },
  {
   "cell_type": "markdown",
   "metadata": {},
   "source": [
    "After comparing the error amounts of the model to the error amounts of the baseline and seeing that the error amounts for the model are lower we can conclude that the model does perform better than the baseline. Next we will have a look at the r'squared value."
   ]
  },
  {
   "cell_type": "code",
   "execution_count": 25,
   "metadata": {},
   "outputs": [
    {
     "data": {
      "text/plain": [
       "0.26038453512169557"
      ]
     },
     "execution_count": 25,
     "metadata": {},
     "output_type": "execute_result"
    }
   ],
   "source": [
    "Bathrooms_R2"
   ]
  },
  {
   "cell_type": "markdown",
   "metadata": {},
   "source": [
    "26% of variance in Tax_Value is explained by the feature Bathrooms. "
   ]
  },
  {
   "cell_type": "markdown",
   "metadata": {},
   "source": [
    "In conclusion, of the three target features, size in square feet, number of bedrooms, and number of bathrooms, number of bathrooms alone had most explanatory value. 26% of the variance in the assigned tax value can be explained by the number of Bathrooms it has. "
   ]
  },
  {
   "cell_type": "markdown",
   "metadata": {},
   "source": [
    "I Used the fips values to identify county and state of each property and graphed a tax rate distribution for the properties in each county.  "
   ]
  },
  {
   "cell_type": "code",
   "execution_count": 26,
   "metadata": {},
   "outputs": [],
   "source": [
    "import histographs as h\n",
    "df = h.wrangle_zillow_graphs()"
   ]
  },
  {
   "cell_type": "code",
   "execution_count": 27,
   "metadata": {},
   "outputs": [
    {
     "data": {
      "text/plain": [
       "[]"
      ]
     },
     "execution_count": 27,
     "metadata": {},
     "output_type": "execute_result"
    },
    {
     "data": {
      "image/png": "[encoded data removed]",
      "text/plain": [
       "<Figure size 432x288 with 1 Axes>"
      ]
     },
     "metadata": {
      "needs_background": "light"
     },
     "output_type": "display_data"
    }
   ],
   "source": [
    "\n",
    "plt.title('Distribution of Tax Rate Los Angeles County')\n",
    "plt.hist(df.Tax_Rate,bins=[.010,.011,.012,.013,.014,.015,.016,.017,.018,.019,.02])\n",
    "plt.plot()"
   ]
  },
  {
   "cell_type": "code",
   "execution_count": 28,
   "metadata": {},
   "outputs": [],
   "source": [
    "df = h.wrangle_zillow_graphs2()"
   ]
  },
  {
   "cell_type": "code",
   "execution_count": 29,
   "metadata": {},
   "outputs": [
    {
     "data": {
      "text/plain": [
       "[]"
      ]
     },
     "execution_count": 29,
     "metadata": {},
     "output_type": "execute_result"
    },
    {
     "data": {
      "image/png": "[encoded data removed]",
      "text/plain": [
       "<Figure size 432x288 with 1 Axes>"
      ]
     },
     "metadata": {
      "needs_background": "light"
     },
     "output_type": "display_data"
    }
   ],
   "source": [
    "plt.title('Distribution of Tax Rate Orange County')\n",
    "plt.hist(df.Tax_Rate,bins=[.010,.011,.012,.013,.014,.015,.016,.017,.018,.019,.02])\n",
    "plt.plot()"
   ]
  },
  {
   "cell_type": "code",
   "execution_count": 30,
   "metadata": {},
   "outputs": [],
   "source": [
    "df = h.wrangle_zillow_graphs3()"
   ]
  },
  {
   "cell_type": "code",
   "execution_count": 31,
   "metadata": {},
   "outputs": [
    {
     "data": {
      "text/plain": [
       "[]"
      ]
     },
     "execution_count": 31,
     "metadata": {},
     "output_type": "execute_result"
    },
    {
     "data": {
      "image/png": "[encoded data removed]",
      "text/plain": [
       "<Figure size 432x288 with 1 Axes>"
      ]
     },
     "metadata": {
      "needs_background": "light"
     },
     "output_type": "display_data"
    }
   ],
   "source": [
    "plt.title('Distribution of Tax Rate Ventura County')\n",
    "plt.hist(df.Tax_Rate,bins=[.010,.011,.012,.013,.014,.015,.016,.017,.018,.019,.02])\n",
    "plt.plot()"
   ]
  }
 ],
 "metadata": {
  "kernelspec": {
   "display_name": "Python 3",
   "language": "python",
   "name": "python3"
  },
  "language_info": {
   "codemirror_mode": {
    "name": "ipython",
    "version": 3
   },
   "file_extension": ".py",
   "mimetype": "text/x-python",
   "name": "python",
   "nbconvert_exporter": "python",
   "pygments_lexer": "ipython3",
   "version": "3.7.3"
  }
 },
 "nbformat": 4,
 "nbformat_minor": 2
}
